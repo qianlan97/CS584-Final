{
 "cells": [
  {
   "cell_type": "code",
   "execution_count": 45,
   "metadata": {},
   "outputs": [],
   "source": [
    "import numpy as np\n",
    "import pandas as pd\n",
    "import matplotlib.pyplot as plt\n",
    "import stanza\n",
    "from tqdm.notebook import tqdm\n",
    "from collections import Counter\n",
    "from fuzzywuzzy import process"
   ]
  },
  {
   "cell_type": "markdown",
   "metadata": {},
   "source": [
    "## Load the data"
   ]
  },
  {
   "cell_type": "code",
   "execution_count": 2,
   "metadata": {},
   "outputs": [
    {
     "data": {
      "text/html": [
       "<div>\n",
       "<style scoped>\n",
       "    .dataframe tbody tr th:only-of-type {\n",
       "        vertical-align: middle;\n",
       "    }\n",
       "\n",
       "    .dataframe tbody tr th {\n",
       "        vertical-align: top;\n",
       "    }\n",
       "\n",
       "    .dataframe thead th {\n",
       "        text-align: right;\n",
       "    }\n",
       "</style>\n",
       "<table border=\"1\" class=\"dataframe\">\n",
       "  <thead>\n",
       "    <tr style=\"text-align: right;\">\n",
       "      <th></th>\n",
       "      <th>VAERS_ID</th>\n",
       "      <th>RECVDATE</th>\n",
       "      <th>STATE</th>\n",
       "      <th>AGE_YRS</th>\n",
       "      <th>CAGE_YR</th>\n",
       "      <th>CAGE_MO</th>\n",
       "      <th>SEX</th>\n",
       "      <th>RPT_DATE</th>\n",
       "      <th>SYMPTOM_TEXT</th>\n",
       "      <th>DIED</th>\n",
       "      <th>...</th>\n",
       "      <th>CUR_ILL</th>\n",
       "      <th>HISTORY</th>\n",
       "      <th>PRIOR_VAX</th>\n",
       "      <th>SPLTTYPE</th>\n",
       "      <th>FORM_VERS</th>\n",
       "      <th>TODAYS_DATE</th>\n",
       "      <th>BIRTH_DEFECT</th>\n",
       "      <th>OFC_VISIT</th>\n",
       "      <th>ER_ED_VISIT</th>\n",
       "      <th>ALLERGIES</th>\n",
       "    </tr>\n",
       "  </thead>\n",
       "  <tbody>\n",
       "    <tr>\n",
       "      <th>0</th>\n",
       "      <td>2547730</td>\n",
       "      <td>01/01/2023</td>\n",
       "      <td>DE</td>\n",
       "      <td>53.0</td>\n",
       "      <td>NaN</td>\n",
       "      <td>NaN</td>\n",
       "      <td>F</td>\n",
       "      <td>NaN</td>\n",
       "      <td>The adverse event is that the patient went int...</td>\n",
       "      <td>NaN</td>\n",
       "      <td>...</td>\n",
       "      <td>diabetic</td>\n",
       "      <td>NaN</td>\n",
       "      <td>NaN</td>\n",
       "      <td>NaN</td>\n",
       "      <td>2</td>\n",
       "      <td>12/31/2022</td>\n",
       "      <td>NaN</td>\n",
       "      <td>NaN</td>\n",
       "      <td>NaN</td>\n",
       "      <td>none</td>\n",
       "    </tr>\n",
       "    <tr>\n",
       "      <th>1</th>\n",
       "      <td>2547731</td>\n",
       "      <td>01/01/2023</td>\n",
       "      <td>MA</td>\n",
       "      <td>6.0</td>\n",
       "      <td>6.0</td>\n",
       "      <td>NaN</td>\n",
       "      <td>M</td>\n",
       "      <td>NaN</td>\n",
       "      <td>Error: Incorrect Reconstitution-</td>\n",
       "      <td>NaN</td>\n",
       "      <td>...</td>\n",
       "      <td>NaN</td>\n",
       "      <td>NaN</td>\n",
       "      <td>NaN</td>\n",
       "      <td>NaN</td>\n",
       "      <td>2</td>\n",
       "      <td>01/01/2023</td>\n",
       "      <td>NaN</td>\n",
       "      <td>NaN</td>\n",
       "      <td>NaN</td>\n",
       "      <td>NaN</td>\n",
       "    </tr>\n",
       "    <tr>\n",
       "      <th>2</th>\n",
       "      <td>2547732</td>\n",
       "      <td>01/01/2023</td>\n",
       "      <td>MA</td>\n",
       "      <td>38.0</td>\n",
       "      <td>38.0</td>\n",
       "      <td>NaN</td>\n",
       "      <td>F</td>\n",
       "      <td>NaN</td>\n",
       "      <td>Error: Patient Accidentally Stuck by Needle-</td>\n",
       "      <td>NaN</td>\n",
       "      <td>...</td>\n",
       "      <td>NaN</td>\n",
       "      <td>NaN</td>\n",
       "      <td>NaN</td>\n",
       "      <td>NaN</td>\n",
       "      <td>2</td>\n",
       "      <td>01/01/2023</td>\n",
       "      <td>NaN</td>\n",
       "      <td>NaN</td>\n",
       "      <td>NaN</td>\n",
       "      <td>NaN</td>\n",
       "    </tr>\n",
       "    <tr>\n",
       "      <th>3</th>\n",
       "      <td>2547733</td>\n",
       "      <td>01/01/2023</td>\n",
       "      <td>CA</td>\n",
       "      <td>63.0</td>\n",
       "      <td>63.0</td>\n",
       "      <td>NaN</td>\n",
       "      <td>M</td>\n",
       "      <td>NaN</td>\n",
       "      <td>Error: Dose in Series Given Too Early-</td>\n",
       "      <td>NaN</td>\n",
       "      <td>...</td>\n",
       "      <td>NaN</td>\n",
       "      <td>NaN</td>\n",
       "      <td>NaN</td>\n",
       "      <td>NaN</td>\n",
       "      <td>2</td>\n",
       "      <td>01/01/2023</td>\n",
       "      <td>NaN</td>\n",
       "      <td>NaN</td>\n",
       "      <td>NaN</td>\n",
       "      <td>NaN</td>\n",
       "    </tr>\n",
       "    <tr>\n",
       "      <th>4</th>\n",
       "      <td>2547734</td>\n",
       "      <td>01/01/2023</td>\n",
       "      <td>IL</td>\n",
       "      <td>30.0</td>\n",
       "      <td>30.0</td>\n",
       "      <td>NaN</td>\n",
       "      <td>F</td>\n",
       "      <td>NaN</td>\n",
       "      <td>Systemic: EYE TWITCHING-Medium</td>\n",
       "      <td>NaN</td>\n",
       "      <td>...</td>\n",
       "      <td>NaN</td>\n",
       "      <td>NaN</td>\n",
       "      <td>NaN</td>\n",
       "      <td>NaN</td>\n",
       "      <td>2</td>\n",
       "      <td>01/01/2023</td>\n",
       "      <td>NaN</td>\n",
       "      <td>NaN</td>\n",
       "      <td>NaN</td>\n",
       "      <td>NaN</td>\n",
       "    </tr>\n",
       "  </tbody>\n",
       "</table>\n",
       "<p>5 rows × 35 columns</p>\n",
       "</div>"
      ],
      "text/plain": [
       "   VAERS_ID    RECVDATE STATE  AGE_YRS  CAGE_YR  CAGE_MO SEX RPT_DATE  \\\n",
       "0   2547730  01/01/2023    DE     53.0      NaN      NaN   F      NaN   \n",
       "1   2547731  01/01/2023    MA      6.0      6.0      NaN   M      NaN   \n",
       "2   2547732  01/01/2023    MA     38.0     38.0      NaN   F      NaN   \n",
       "3   2547733  01/01/2023    CA     63.0     63.0      NaN   M      NaN   \n",
       "4   2547734  01/01/2023    IL     30.0     30.0      NaN   F      NaN   \n",
       "\n",
       "                                        SYMPTOM_TEXT DIED  ...   CUR_ILL  \\\n",
       "0  The adverse event is that the patient went int...  NaN  ...  diabetic   \n",
       "1                   Error: Incorrect Reconstitution-  NaN  ...       NaN   \n",
       "2       Error: Patient Accidentally Stuck by Needle-  NaN  ...       NaN   \n",
       "3             Error: Dose in Series Given Too Early-  NaN  ...       NaN   \n",
       "4                     Systemic: EYE TWITCHING-Medium  NaN  ...       NaN   \n",
       "\n",
       "  HISTORY PRIOR_VAX SPLTTYPE  FORM_VERS TODAYS_DATE BIRTH_DEFECT OFC_VISIT  \\\n",
       "0     NaN       NaN      NaN          2  12/31/2022          NaN       NaN   \n",
       "1     NaN       NaN      NaN          2  01/01/2023          NaN       NaN   \n",
       "2     NaN       NaN      NaN          2  01/01/2023          NaN       NaN   \n",
       "3     NaN       NaN      NaN          2  01/01/2023          NaN       NaN   \n",
       "4     NaN       NaN      NaN          2  01/01/2023          NaN       NaN   \n",
       "\n",
       "  ER_ED_VISIT ALLERGIES  \n",
       "0         NaN      none  \n",
       "1         NaN       NaN  \n",
       "2         NaN       NaN  \n",
       "3         NaN       NaN  \n",
       "4         NaN       NaN  \n",
       "\n",
       "[5 rows x 35 columns]"
      ]
     },
     "execution_count": 2,
     "metadata": {},
     "output_type": "execute_result"
    }
   ],
   "source": [
    "df_vaers_data = pd.read_csv('./2023VAERSData/2023VAERSDATA.csv', encoding='latin-1')\n",
    "df_vaers_data.head()"
   ]
  },
  {
   "cell_type": "code",
   "execution_count": 3,
   "metadata": {},
   "outputs": [
    {
     "data": {
      "text/html": [
       "<div>\n",
       "<style scoped>\n",
       "    .dataframe tbody tr th:only-of-type {\n",
       "        vertical-align: middle;\n",
       "    }\n",
       "\n",
       "    .dataframe tbody tr th {\n",
       "        vertical-align: top;\n",
       "    }\n",
       "\n",
       "    .dataframe thead th {\n",
       "        text-align: right;\n",
       "    }\n",
       "</style>\n",
       "<table border=\"1\" class=\"dataframe\">\n",
       "  <thead>\n",
       "    <tr style=\"text-align: right;\">\n",
       "      <th></th>\n",
       "      <th>VAERS_ID</th>\n",
       "      <th>SYMPTOM1</th>\n",
       "      <th>SYMPTOMVERSION1</th>\n",
       "      <th>SYMPTOM2</th>\n",
       "      <th>SYMPTOMVERSION2</th>\n",
       "      <th>SYMPTOM3</th>\n",
       "      <th>SYMPTOMVERSION3</th>\n",
       "      <th>SYMPTOM4</th>\n",
       "      <th>SYMPTOMVERSION4</th>\n",
       "      <th>SYMPTOM5</th>\n",
       "      <th>SYMPTOMVERSION5</th>\n",
       "    </tr>\n",
       "  </thead>\n",
       "  <tbody>\n",
       "    <tr>\n",
       "      <th>0</th>\n",
       "      <td>2547730</td>\n",
       "      <td>Blood pressure orthostatic abnormal</td>\n",
       "      <td>25.1</td>\n",
       "      <td>COVID-19</td>\n",
       "      <td>25.1</td>\n",
       "      <td>Coma</td>\n",
       "      <td>25.1</td>\n",
       "      <td>Computerised tomogram</td>\n",
       "      <td>25.1</td>\n",
       "      <td>Exposure to SARS-CoV-2</td>\n",
       "      <td>25.1</td>\n",
       "    </tr>\n",
       "    <tr>\n",
       "      <th>1</th>\n",
       "      <td>2547730</td>\n",
       "      <td>Head injury</td>\n",
       "      <td>25.1</td>\n",
       "      <td>Headache</td>\n",
       "      <td>25.1</td>\n",
       "      <td>Laboratory test</td>\n",
       "      <td>25.1</td>\n",
       "      <td>Magnetic resonance imaging</td>\n",
       "      <td>25.1</td>\n",
       "      <td>SARS-CoV-2 antibody test negative</td>\n",
       "      <td>25.1</td>\n",
       "    </tr>\n",
       "    <tr>\n",
       "      <th>2</th>\n",
       "      <td>2547730</td>\n",
       "      <td>SARS-CoV-2 test positive</td>\n",
       "      <td>25.1</td>\n",
       "      <td>Unresponsive to stimuli</td>\n",
       "      <td>25.1</td>\n",
       "      <td>X-ray</td>\n",
       "      <td>25.1</td>\n",
       "      <td>NaN</td>\n",
       "      <td>NaN</td>\n",
       "      <td>NaN</td>\n",
       "      <td>NaN</td>\n",
       "    </tr>\n",
       "    <tr>\n",
       "      <th>3</th>\n",
       "      <td>2547731</td>\n",
       "      <td>Product preparation issue</td>\n",
       "      <td>25.1</td>\n",
       "      <td>NaN</td>\n",
       "      <td>NaN</td>\n",
       "      <td>NaN</td>\n",
       "      <td>NaN</td>\n",
       "      <td>NaN</td>\n",
       "      <td>NaN</td>\n",
       "      <td>NaN</td>\n",
       "      <td>NaN</td>\n",
       "    </tr>\n",
       "    <tr>\n",
       "      <th>4</th>\n",
       "      <td>2547732</td>\n",
       "      <td>Injury associated with device</td>\n",
       "      <td>25.1</td>\n",
       "      <td>NaN</td>\n",
       "      <td>NaN</td>\n",
       "      <td>NaN</td>\n",
       "      <td>NaN</td>\n",
       "      <td>NaN</td>\n",
       "      <td>NaN</td>\n",
       "      <td>NaN</td>\n",
       "      <td>NaN</td>\n",
       "    </tr>\n",
       "  </tbody>\n",
       "</table>\n",
       "</div>"
      ],
      "text/plain": [
       "   VAERS_ID                             SYMPTOM1  SYMPTOMVERSION1  \\\n",
       "0   2547730  Blood pressure orthostatic abnormal             25.1   \n",
       "1   2547730                          Head injury             25.1   \n",
       "2   2547730             SARS-CoV-2 test positive             25.1   \n",
       "3   2547731            Product preparation issue             25.1   \n",
       "4   2547732        Injury associated with device             25.1   \n",
       "\n",
       "                  SYMPTOM2  SYMPTOMVERSION2         SYMPTOM3  SYMPTOMVERSION3  \\\n",
       "0                 COVID-19             25.1             Coma             25.1   \n",
       "1                 Headache             25.1  Laboratory test             25.1   \n",
       "2  Unresponsive to stimuli             25.1            X-ray             25.1   \n",
       "3                      NaN              NaN              NaN              NaN   \n",
       "4                      NaN              NaN              NaN              NaN   \n",
       "\n",
       "                     SYMPTOM4  SYMPTOMVERSION4  \\\n",
       "0       Computerised tomogram             25.1   \n",
       "1  Magnetic resonance imaging             25.1   \n",
       "2                         NaN              NaN   \n",
       "3                         NaN              NaN   \n",
       "4                         NaN              NaN   \n",
       "\n",
       "                            SYMPTOM5  SYMPTOMVERSION5  \n",
       "0             Exposure to SARS-CoV-2             25.1  \n",
       "1  SARS-CoV-2 antibody test negative             25.1  \n",
       "2                                NaN              NaN  \n",
       "3                                NaN              NaN  \n",
       "4                                NaN              NaN  "
      ]
     },
     "execution_count": 3,
     "metadata": {},
     "output_type": "execute_result"
    }
   ],
   "source": [
    "df_sympt = pd.read_csv('./2023VAERSData/2023VAERSSYMPTOMS.csv', encoding='latin-1')\n",
    "df_sympt.head()"
   ]
  },
  {
   "cell_type": "code",
   "execution_count": 4,
   "metadata": {},
   "outputs": [
    {
     "data": {
      "text/html": [
       "<div>\n",
       "<style scoped>\n",
       "    .dataframe tbody tr th:only-of-type {\n",
       "        vertical-align: middle;\n",
       "    }\n",
       "\n",
       "    .dataframe tbody tr th {\n",
       "        vertical-align: top;\n",
       "    }\n",
       "\n",
       "    .dataframe thead th {\n",
       "        text-align: right;\n",
       "    }\n",
       "</style>\n",
       "<table border=\"1\" class=\"dataframe\">\n",
       "  <thead>\n",
       "    <tr style=\"text-align: right;\">\n",
       "      <th></th>\n",
       "      <th>VAERS_ID</th>\n",
       "      <th>VAX_TYPE</th>\n",
       "      <th>VAX_MANU</th>\n",
       "      <th>VAX_LOT</th>\n",
       "      <th>VAX_DOSE_SERIES</th>\n",
       "      <th>VAX_ROUTE</th>\n",
       "      <th>VAX_SITE</th>\n",
       "      <th>VAX_NAME</th>\n",
       "    </tr>\n",
       "  </thead>\n",
       "  <tbody>\n",
       "    <tr>\n",
       "      <th>0</th>\n",
       "      <td>2547730</td>\n",
       "      <td>COVID19</td>\n",
       "      <td>JANSSEN</td>\n",
       "      <td>1808982</td>\n",
       "      <td>UNK</td>\n",
       "      <td>SYR</td>\n",
       "      <td>AR</td>\n",
       "      <td>COVID19 (COVID19 (JANSSEN))</td>\n",
       "    </tr>\n",
       "    <tr>\n",
       "      <th>1</th>\n",
       "      <td>2547731</td>\n",
       "      <td>COVID19</td>\n",
       "      <td>PFIZER\\BIONTECH</td>\n",
       "      <td>GK1657</td>\n",
       "      <td>3</td>\n",
       "      <td>IM</td>\n",
       "      <td>LA</td>\n",
       "      <td>COVID19 (COVID19 (PFIZER-BIONTECH))</td>\n",
       "    </tr>\n",
       "    <tr>\n",
       "      <th>2</th>\n",
       "      <td>2547732</td>\n",
       "      <td>COVID19-2</td>\n",
       "      <td>MODERNA</td>\n",
       "      <td>141H22A</td>\n",
       "      <td>4</td>\n",
       "      <td>IM</td>\n",
       "      <td>LA</td>\n",
       "      <td>COVID19 (COVID19 (MODERNA BIVALENT))</td>\n",
       "    </tr>\n",
       "    <tr>\n",
       "      <th>3</th>\n",
       "      <td>2547733</td>\n",
       "      <td>COVID19</td>\n",
       "      <td>MODERNA</td>\n",
       "      <td>042h22a</td>\n",
       "      <td>1</td>\n",
       "      <td>IM</td>\n",
       "      <td>LA</td>\n",
       "      <td>COVID19 (COVID19 (MODERNA))</td>\n",
       "    </tr>\n",
       "    <tr>\n",
       "      <th>4</th>\n",
       "      <td>2547734</td>\n",
       "      <td>TDAP</td>\n",
       "      <td>GLAXOSMITHKLINE BIOLOGICALS</td>\n",
       "      <td>KP547</td>\n",
       "      <td>1</td>\n",
       "      <td>IM</td>\n",
       "      <td>LA</td>\n",
       "      <td>TDAP (BOOSTRIX)</td>\n",
       "    </tr>\n",
       "  </tbody>\n",
       "</table>\n",
       "</div>"
      ],
      "text/plain": [
       "   VAERS_ID   VAX_TYPE                     VAX_MANU  VAX_LOT VAX_DOSE_SERIES  \\\n",
       "0   2547730    COVID19                      JANSSEN  1808982             UNK   \n",
       "1   2547731    COVID19              PFIZER\\BIONTECH   GK1657               3   \n",
       "2   2547732  COVID19-2                      MODERNA  141H22A               4   \n",
       "3   2547733    COVID19                      MODERNA  042h22a               1   \n",
       "4   2547734       TDAP  GLAXOSMITHKLINE BIOLOGICALS    KP547               1   \n",
       "\n",
       "  VAX_ROUTE VAX_SITE                              VAX_NAME  \n",
       "0       SYR       AR           COVID19 (COVID19 (JANSSEN))  \n",
       "1        IM       LA   COVID19 (COVID19 (PFIZER-BIONTECH))  \n",
       "2        IM       LA  COVID19 (COVID19 (MODERNA BIVALENT))  \n",
       "3        IM       LA           COVID19 (COVID19 (MODERNA))  \n",
       "4        IM       LA                       TDAP (BOOSTRIX)  "
      ]
     },
     "execution_count": 4,
     "metadata": {},
     "output_type": "execute_result"
    }
   ],
   "source": [
    "df_vax = pd.read_csv('./2023VAERSData/2023VAERSVAX.csv', encoding='latin-1')\n",
    "df_vax.head()"
   ]
  },
  {
   "cell_type": "markdown",
   "metadata": {},
   "source": [
    "## Process Data\n",
    "#### a. Select a vaccine type based on VAERS Vaccine table. For example, COVID19, FLU3, or TDAP.\n",
    "#### b. Based on the VAERS_ID, get around 10,000 reports related to the vaccine you selected from the column SYMPTOM_TEXT in the VAERS DATA table."
   ]
  },
  {
   "cell_type": "code",
   "execution_count": 5,
   "metadata": {},
   "outputs": [
    {
     "data": {
      "text/plain": [
       "(array([2547730, 2547731, 2547733, 2547739, 2547741, 2547744, 2547745,\n",
       "        2547746, 2547747, 2547749]),\n",
       " 40186)"
      ]
     },
     "execution_count": 5,
     "metadata": {},
     "output_type": "execute_result"
    }
   ],
   "source": [
    "df_covid19 = df_vax[df_vax['VAX_TYPE'] == 'COVID19']\n",
    "vaers_ids_covid19 = df_covid19['VAERS_ID'].unique()\n",
    "vaers_ids_covid19[:10], len(vaers_ids_covid19)"
   ]
  },
  {
   "cell_type": "code",
   "execution_count": 6,
   "metadata": {},
   "outputs": [],
   "source": [
    "df_covid19_reports = df_vaers_data[df_vaers_data['VAERS_ID'].isin(vaers_ids_covid19)]\n",
    "df_covid19_symptoms = df_covid19_reports[['VAERS_ID', 'SYMPTOM_TEXT']].head(10000)\n",
    "df_covid19_symptoms.head(), len(df_covid19_symptoms)\n",
    "df_input = df_covid19_symptoms\n",
    "df_input = df_input.dropna()"
   ]
  },
  {
   "cell_type": "code",
   "execution_count": 7,
   "metadata": {},
   "outputs": [
    {
     "name": "stdout",
     "output_type": "stream",
     "text": [
      "<class 'pandas.core.frame.DataFrame'>\n",
      "Int64Index: 9996 entries, 0 to 21539\n",
      "Data columns (total 2 columns):\n",
      " #   Column        Non-Null Count  Dtype \n",
      "---  ------        --------------  ----- \n",
      " 0   VAERS_ID      9996 non-null   int64 \n",
      " 1   SYMPTOM_TEXT  9996 non-null   object\n",
      "dtypes: int64(1), object(1)\n",
      "memory usage: 234.3+ KB\n"
     ]
    }
   ],
   "source": [
    "df_input.info()"
   ]
  },
  {
   "cell_type": "markdown",
   "metadata": {},
   "source": [
    "#### c. Perform some statistical analysis of your data. For example, you can get the distribution of the number of different symptoms related that vaccine type. You can also get the distribution of the length of different reports."
   ]
  },
  {
   "cell_type": "code",
   "execution_count": 8,
   "metadata": {},
   "outputs": [
    {
     "data": {
      "image/png": "[encoded data removed]",
      "text/plain": [
       "<Figure size 1000x600 with 1 Axes>"
      ]
     },
     "metadata": {},
     "output_type": "display_data"
    },
    {
     "data": {
      "text/plain": [
       "count    10000.000000\n",
       "mean      1042.349700\n",
       "std       1430.146538\n",
       "min          2.000000\n",
       "25%        113.000000\n",
       "50%        439.000000\n",
       "75%       1677.000000\n",
       "max      21985.000000\n",
       "Name: REPORT_LENGTH, dtype: float64"
      ]
     },
     "execution_count": 8,
     "metadata": {},
     "output_type": "execute_result"
    }
   ],
   "source": [
    "df_covid19_symptoms['SYMPTOM_TEXT'] = df_covid19_symptoms['SYMPTOM_TEXT'].astype(str)\n",
    "df_covid19_symptoms['REPORT_LENGTH'] = df_covid19_symptoms['SYMPTOM_TEXT'].apply(len)\n",
    "\n",
    "plt.figure(figsize=(10, 6))\n",
    "plt.hist(df_covid19_symptoms['REPORT_LENGTH'], bins=50, color='blue', edgecolor='black')\n",
    "plt.title('Distribution of COVID-19 Vaccine Symptom Report Lengths')\n",
    "plt.xlabel('Length of Report')\n",
    "plt.ylabel('Frequency')\n",
    "plt.grid(True)\n",
    "plt.show()\n",
    "\n",
    "report_length_stats = df_covid19_symptoms['REPORT_LENGTH'].describe()\n",
    "report_length_stats"
   ]
  },
  {
   "cell_type": "markdown",
   "metadata": {},
   "source": [
    "#### d. For the reports you selected in 2.b, build the corresponding standard symptom list with the symptoms in VAERS Symptoms table. Further, please find the most common symptoms (e.g., the most frequent 100 symptoms.)"
   ]
  },
  {
   "cell_type": "code",
   "execution_count": 34,
   "metadata": {},
   "outputs": [],
   "source": [
    "df_covid19_symptoms_full = pd.merge(df_covid19_symptoms[['VAERS_ID']], df_sympt, on='VAERS_ID', how='inner')\n",
    "symptom_columns = [col for col in df_sympt.columns if 'SYMPTOM' in col]\n",
    "df_covid19_symptoms_full['SYMPTOMS_LIST'] = df_covid19_symptoms_full[symptom_columns].values.tolist()\n",
    "all_symptoms = [symptom for sublist in df_covid19_symptoms_full['SYMPTOMS_LIST'].tolist() for symptom in sublist if pd.notnull(symptom)]\n",
    "\n",
    "def extract_unique_strings_with_count(lst):\n",
    "    # Filter out strings from the list\n",
    "    strings_only = [item for item in lst if isinstance(item, str)]\n",
    "\n",
    "    # Count the frequency of each string\n",
    "    string_counts = Counter(strings_only)\n",
    "\n",
    "    # Sort the strings based on frequency in descending order\n",
    "    sorted_strings = sorted(string_counts, key=string_counts.get, reverse=True)\n",
    "\n",
    "    # Create a DataFrame with strings and their counts\n",
    "    df = pd.DataFrame({\n",
    "        'Symptoms': sorted_strings,\n",
    "        'Count': [string_counts[string] for string in sorted_strings]\n",
    "    })\n",
    "\n",
    "    return df\n",
    "# Call the function and save the result in a DataFrame\n",
    "standard_symptoms = extract_unique_strings_with_count(all_symptoms)\n",
    "standard_symptoms.to_csv('standard_symptoms.csv')\n",
    "common_standard_symptoms = standard_symptoms.head(100)\n",
    "common_standard_symptoms.to_csv('common_standard_symptoms.csv')"
   ]
  },
  {
   "cell_type": "markdown",
   "metadata": {},
   "source": [
    "## STEP 1: Extracting Symptom-related Entities:\n",
    "### Task:\n",
    "- Input: Description of vaccine adverse events (i.e., SYMPTOM TEXT in VAERS DATA table).\n",
    "- Output: A list of symptom related entities.\n",
    "- Evaluation: There is no ground truth annotation for the data. You need to manually check 20+ reports to see if there are entities that are missed by the model or package."
   ]
  },
  {
   "cell_type": "code",
   "execution_count": 11,
   "metadata": {},
   "outputs": [
    {
     "data": {
      "application/vnd.jupyter.widget-view+json": {
       "model_id": "f7e6a454ff7347bdb27ff91ac18c2e32",
       "version_major": 2,
       "version_minor": 0
      },
      "text/plain": [
       "Downloading https://raw.githubusercontent.com/stanfordnlp/stanza-resources/main/resources_1.6.0.json:   0%|   …"
      ]
     },
     "metadata": {},
     "output_type": "display_data"
    },
    {
     "name": "stderr",
     "output_type": "stream",
     "text": [
      "2023-11-28 15:39:18 INFO: Downloading these customized packages for language: en (English)...\n",
      "====================================\n",
      "| Processor       | Package        |\n",
      "------------------------------------\n",
      "| tokenize        | mimic          |\n",
      "| pos             | mimic_charlm   |\n",
      "| lemma           | mimic_nocharlm |\n",
      "| depparse        | mimic_charlm   |\n",
      "| ner             | i2b2           |\n",
      "| forward_charlm  | mimic          |\n",
      "| pretrain        | mimic          |\n",
      "| backward_charlm | mimic          |\n",
      "====================================\n",
      "\n"
     ]
    },
    {
     "data": {
      "application/vnd.jupyter.widget-view+json": {
       "model_id": "192539288125433493cdf49747abbb2b",
       "version_major": 2,
       "version_minor": 0
      },
      "text/plain": [
       "Downloading https://huggingface.co/stanfordnlp/stanza-en/resolve/v1.6.0/models/tokenize/mimic.pt:   0%|       …"
      ]
     },
     "metadata": {},
     "output_type": "display_data"
    },
    {
     "data": {
      "application/vnd.jupyter.widget-view+json": {
       "model_id": "0055b3335e844cd7a2b7af952635b203",
       "version_major": 2,
       "version_minor": 0
      },
      "text/plain": [
       "Downloading https://huggingface.co/stanfordnlp/stanza-en/resolve/v1.6.0/models/pos/mimic_charlm.pt:   0%|     …"
      ]
     },
     "metadata": {},
     "output_type": "display_data"
    },
    {
     "data": {
      "application/vnd.jupyter.widget-view+json": {
       "model_id": "720e984fd2934a78a0885e52f84d8856",
       "version_major": 2,
       "version_minor": 0
      },
      "text/plain": [
       "Downloading https://huggingface.co/stanfordnlp/stanza-en/resolve/v1.6.0/models/lemma/mimic_nocharlm.pt:   0%| …"
      ]
     },
     "metadata": {},
     "output_type": "display_data"
    },
    {
     "data": {
      "application/vnd.jupyter.widget-view+json": {
       "model_id": "4eeb0f4fd59448f59f3e9ab0e618d5a8",
       "version_major": 2,
       "version_minor": 0
      },
      "text/plain": [
       "Downloading https://huggingface.co/stanfordnlp/stanza-en/resolve/v1.6.0/models/depparse/mimic_charlm.pt:   0%|…"
      ]
     },
     "metadata": {},
     "output_type": "display_data"
    },
    {
     "data": {
      "application/vnd.jupyter.widget-view+json": {
       "model_id": "d5b08ff3dc604e239bb29bdeb12a9684",
       "version_major": 2,
       "version_minor": 0
      },
      "text/plain": [
       "Downloading https://huggingface.co/stanfordnlp/stanza-en/resolve/v1.6.0/models/ner/i2b2.pt:   0%|          | 0…"
      ]
     },
     "metadata": {},
     "output_type": "display_data"
    },
    {
     "data": {
      "application/vnd.jupyter.widget-view+json": {
       "model_id": "4b3cb368d97348469e8047ce9ed6ac42",
       "version_major": 2,
       "version_minor": 0
      },
      "text/plain": [
       "Downloading https://huggingface.co/stanfordnlp/stanza-en/resolve/v1.6.0/models/forward_charlm/mimic.pt:   0%| …"
      ]
     },
     "metadata": {},
     "output_type": "display_data"
    },
    {
     "data": {
      "application/vnd.jupyter.widget-view+json": {
       "model_id": "a2b66145b5854967b36b37e7659eeeb4",
       "version_major": 2,
       "version_minor": 0
      },
      "text/plain": [
       "Downloading https://huggingface.co/stanfordnlp/stanza-en/resolve/v1.6.0/models/pretrain/mimic.pt:   0%|       …"
      ]
     },
     "metadata": {},
     "output_type": "display_data"
    },
    {
     "data": {
      "application/vnd.jupyter.widget-view+json": {
       "model_id": "c639900af4d44117ac3c7c6652bc7917",
       "version_major": 2,
       "version_minor": 0
      },
      "text/plain": [
       "Downloading https://huggingface.co/stanfordnlp/stanza-en/resolve/v1.6.0/models/backward_charlm/mimic.pt:   0%|…"
      ]
     },
     "metadata": {},
     "output_type": "display_data"
    },
    {
     "name": "stderr",
     "output_type": "stream",
     "text": [
      "2023-11-28 15:39:49 INFO: Finished downloading models and saved to /home/iar/stanza_resources.\n",
      "2023-11-28 15:39:49 INFO: Checking for updates to resources.json in case models have been updated.  Note: this behavior can be turned off with download_method=None or download_method=DownloadMethod.REUSE_RESOURCES\n"
     ]
    },
    {
     "data": {
      "application/vnd.jupyter.widget-view+json": {
       "model_id": "420ba3186f794083afb55b6d10fdaefc",
       "version_major": 2,
       "version_minor": 0
      },
      "text/plain": [
       "Downloading https://raw.githubusercontent.com/stanfordnlp/stanza-resources/main/resources_1.6.0.json:   0%|   …"
      ]
     },
     "metadata": {},
     "output_type": "display_data"
    },
    {
     "name": "stderr",
     "output_type": "stream",
     "text": [
      "2023-11-28 15:39:50 INFO: Loading these models for language: en (English):\n",
      "==============================\n",
      "| Processor | Package        |\n",
      "------------------------------\n",
      "| tokenize  | mimic          |\n",
      "| pos       | mimic_charlm   |\n",
      "| lemma     | mimic_nocharlm |\n",
      "| depparse  | mimic_charlm   |\n",
      "| ner       | i2b2           |\n",
      "==============================\n",
      "\n",
      "2023-11-28 15:39:50 INFO: Using device: cuda\n",
      "2023-11-28 15:39:50 INFO: Loading: tokenize\n",
      "2023-11-28 15:39:53 INFO: Loading: pos\n",
      "2023-11-28 15:39:54 INFO: Loading: lemma\n",
      "2023-11-28 15:39:54 INFO: Loading: depparse\n",
      "2023-11-28 15:39:54 INFO: Loading: ner\n",
      "2023-11-28 15:39:54 INFO: Done loading processors!\n"
     ]
    }
   ],
   "source": [
    "stanza.download('en', package='mimic', processors={'ner': 'i2b2'})\n",
    "nlp = stanza.Pipeline(lang='en', package='mimic', processors={'ner': 'i2b2'})"
   ]
  },
  {
   "cell_type": "code",
   "execution_count": 12,
   "metadata": {},
   "outputs": [
    {
     "data": {
      "application/vnd.jupyter.widget-view+json": {
       "model_id": "927f74c1d5e3420e9563cbf9805175a4",
       "version_major": 2,
       "version_minor": 0
      },
      "text/plain": [
       "  0%|          | 0/10000 [00:00<?, ?it/s]"
      ]
     },
     "metadata": {},
     "output_type": "display_data"
    }
   ],
   "source": [
    "def extract_symptoms(text):\n",
    "    doc = nlp(text)\n",
    "    symptoms = []\n",
    "    for ent in doc.ents:\n",
    "        if ent.type in ['PROBLEM', 'DISEASE']:\n",
    "            symptoms.append(ent.text)\n",
    "    return symptoms\n",
    "\n",
    "df_covid19_symptoms['EXTRACTED_SYMPTOMS'] = [extract_symptoms(text) for text in tqdm(df_covid19_symptoms['SYMPTOM_TEXT'])]"
   ]
  },
  {
   "cell_type": "code",
   "execution_count": 13,
   "metadata": {},
   "outputs": [
    {
     "name": "stdout",
     "output_type": "stream",
     "text": [
      "Report 1\n",
      "Input (SYMPTOM_TEXT): The adverse event is that the patient went into a coma state and was non responsive. Patient spent almost a month hospitalized and transferred into a nursing home. Trauma to the head caused severe orthostatic blood pressure problems, high fall risk, ongoing headaches, and caused patient to be exposed to covid, Be advised patient was tested the day before with a PCR 3 day covid test that resulted in zero antibodies.\n",
      "Output (Extracted Symptoms): ['a coma state', 'non responsive', 'Trauma', 'severe orthostatic blood pressure problems', 'high fall risk', 'ongoing headaches', 'zero antibodies']\n",
      "--------------------------------------------------\n",
      "Report 2\n",
      "Input (SYMPTOM_TEXT): Error: Incorrect Reconstitution-\n",
      "Output (Extracted Symptoms): []\n",
      "--------------------------------------------------\n",
      "Report 4\n",
      "Input (SYMPTOM_TEXT): Error: Dose in Series Given Too Early-\n",
      "Output (Extracted Symptoms): []\n",
      "--------------------------------------------------\n",
      "Report 9\n",
      "Input (SYMPTOM_TEXT): Error: Dose in Series Given Too Early-\n",
      "Output (Extracted Symptoms): []\n",
      "--------------------------------------------------\n",
      "Report 11\n",
      "Input (SYMPTOM_TEXT): Considerable swelling of left hand which prevented closure of the hand with a loss of range of motion of 60 to 70 percent  of normal. There was throbbing pain in various areas and significant ratiating pain during efforts to close the hand .\n",
      "Output (Extracted Symptoms): ['Considerable swelling of left hand', 'closure of the hand', 'throbbing pain in various areas', 'significant ratiating pain']\n",
      "--------------------------------------------------\n",
      "Report 14\n",
      "Input (SYMPTOM_TEXT): Upon receiving the Covid booster I started with nonstop headaches.  After 2 months of severe headaches, onset of blurry vision, and shooting pains behind my ears my primary care ordered bloodwork and CT scan. The CT showed an empty sella due to increased intracranial pressure. After following up with a neuro-ophthalmologist who diagnosed idiopathic intracranial hypertension and swollen optic nerves, scheduled a lumbar puncture. I started topiramate, increased the dose then added acetazolamide and increased the dose.  The doctors cannot increase the medications because I have neurological side effects so they can not keep the pressure down in my head and have discussed transverse sinus stenting as the next step to relieve the pressure.  I did consult with a neurosurgeon in April.\n",
      "Output (Extracted Symptoms): ['nonstop headaches', 'severe headaches', 'blurry vision', 'shooting pains', 'an empty sella', 'increased intracranial pressure', 'idiopathic intracranial hypertension', 'swollen optic nerves', 'neurological side effects']\n",
      "--------------------------------------------------\n",
      "Report 15\n",
      "Input (SYMPTOM_TEXT): Cold like symptoms, fever 101.3 runny nose loss of appetite non productive cough\n",
      "Output (Extracted Symptoms): ['Cold like symptoms', 'fever', 'runny nose loss of appetite', 'non productive cough']\n",
      "--------------------------------------------------\n",
      "Report 16\n",
      "Input (SYMPTOM_TEXT): I presented to my PCP with complaint of bilateral tinnitus on 5/16/2022.  Symptoms had been going on for at least a couple of months before I presented.  Examination was unremarkable.  I did go on to have a thorough hearing evaluation (audiogram) on 8/10/2022 at Hospital Clinic on 8/10/2022.  Hearing was within normal limits in both ears.  In spring 2021, I did have a loud noise exposure to my left ear (shotgun) when I was in turkey hunting in a blind with my son.    Dates of my COVID-19 immunizations were:  12/30/2020, 1/27/2021, and 11/29/2021.  All were Moderna.  Dates and Lot #'s are:  12/30/20   Lot # 025J20-2A 1/27/2021 Lot # 041L20A 11/29/2021 Lot # 939909\n",
      "Output (Extracted Symptoms): ['bilateral tinnitus', 'Symptoms']\n",
      "--------------------------------------------------\n",
      "Report 17\n",
      "Input (SYMPTOM_TEXT): numbness and tingling. Started in my legs and increasingly spread up to my chest, The numbness remains in my hands to this day\n",
      "Output (Extracted Symptoms): ['numbness', 'tingling', 'The numbness']\n",
      "--------------------------------------------------\n",
      "Report 19\n",
      "Input (SYMPTOM_TEXT): I caught Covid about 2 week after taking the vaccine and then developed internal bleeding in my eye on 9/7/2022 and then had rashes over my face and body on 10/31/2022.\n",
      "Output (Extracted Symptoms): ['internal bleeding in my eye', 'rashes']\n",
      "--------------------------------------------------\n",
      "Report 22\n",
      "Input (SYMPTOM_TEXT): MODERNA SHOT #1  6/5/21: Day One 6:00pm First Dose  6:05pm numbness in right fingers and arm 6:20pm numbness subsides, nose clears up 6:45pm slight pain in chest on upper right breast, pain in chest comes and goes 6:45pm Throat felt like it was closing, hard to swallow but airway not actually blocked, felt like thyroid swelling  6:50pm Lips/tongue feel slightly numb, I feel spaced out in my brain, and slight numbness in sinuses under eyes on each side of the nose. Slight tingle in right toes. 7:00pm: I feel weirdly euphoric, smiling and sort of dissociated. Tingle in right fingers comes and goes.  6/6/21: Day Two 10:00am Slight red rash around injection site, shoulder soreness  3:00pm rash is darker and raised, soreness is way worse (I've also been holding my phone playing a game all day).  7:30pm almost passed out after short walk. Fever chills. 7:45pm feeling tired after dinner. Stomach is acting up/gas  6/7/21: Day Three Felt fine, rash area got larger but no longer raised. Very little arm soreness today, no issues moving normally.  MODERNA SHOT #2 7/3/21: My face and lips went slightly numb 30 minutes after each shot (including booster) along with brain fog. I had a sore arm, red rash at site, chills, lethargy, extreme hunger/thirst.  MODERNA BOOSTER 1/8/22: Numbness in face, lips and tongue. Tightness in heart.  1/9/22: (Morning after shot) Throwing up, almost passed out, too weak to stand for a few hours, stomach wildy churning. Felt like I was poisoned. Was also on period. The worst sickness I've ever felt.\n",
      "Output (Extracted Symptoms): ['numbness', 'numbness', 'slight pain in chest on upper right breast', 'pain in chest', 'thyroid swelling', 'slightly numb', 'slight numbness in sinuses under eyes', 'Slight tingle in right toes', 'weirdly euphoric', 'smiling', 'Tingle in right fingers', 'Slight red rash around injection site', 'shoulder soreness', 'rash', 'darker', 'soreness', 'Fever', 'chills', 'tired', 'rash area', 'Very little arm soreness', 'slightly numb', 'brain fog', 'a sore arm', 'red rash at site', 'chills', 'lethargy', 'extreme hunger', 'thirst', 'Numbness in face, lips and tongue', 'Tightness in heart', 'too weak', 'The worst sickness I']\n",
      "--------------------------------------------------\n",
      "Report 24\n",
      "Input (SYMPTOM_TEXT): I was diagnosed with atrial fibrillation on 10/20/2022 through a routine EKG.  Since then, I have had afib on and off again.  I consulted Dr., who prescribed 2 medications-- Eliquis tablet 5 mp every day and Metoprolol Tartrate tablet 25 mg every day.  I have had EKGs prior to 10/20/2022 but none detected afib.  (I did not have an EKG after first taking the vaccine on 2/9/2021 until 10/20/2022).\n",
      "Output (Extracted Symptoms): ['atrial fibrillation', 'afib', 'afib']\n",
      "--------------------------------------------------\n",
      "Report 25\n",
      "Input (SYMPTOM_TEXT): With in a week.. hips anf legs pain and stiff\n",
      "Output (Extracted Symptoms): ['hips anf legs pain', 'stiff']\n",
      "--------------------------------------------------\n",
      "Report 26\n",
      "Input (SYMPTOM_TEXT): First symptoms started when my left side of my body went numb, I was stumbling, and could not speak.Went to the minor emergency and was told I was having a migraine. Symptoms lasted 30-40 minutes. First siezure was a week later, sister found me passed out on the floor. I was unconscious a day and half. I was in the hostipal for 4 days and I was given Phenytoin ER 300MG daily.  Second siezure was 2 days after I got released from the hosiptal. I was admitted for 3 days. My medication dosage was changed to Phenytoin 25MG/ML Oral suspension 200MG every 12 hours. I had no memory of what had happened to me after the siezures occurred.  Doctor diagnosis altered mental state, syncope, stroke-like episode, siezure disorder\n",
      "Output (Extracted Symptoms): ['First symptoms', 'stumbling', 'a migraine', 'Symptoms', 'the siezures', 'altered mental state', 'syncope', 'stroke', 'episode', 'siezure disorder']\n",
      "--------------------------------------------------\n",
      "Report 29\n",
      "Input (SYMPTOM_TEXT): Chest pain, elevated heart rate, and exhaustion. Went to the ER and then also went to the cardiologist at local Clinic and was diagnosed with pericarditis through  echo. Was put on a treatment plan with medication  and no exercise.\n",
      "Output (Extracted Symptoms): ['Chest pain', 'elevated heart rate', 'exhaustion', 'pericarditis']\n",
      "--------------------------------------------------\n",
      "Report 30\n",
      "Input (SYMPTOM_TEXT): Palpitations x5 hours, fever, chills and body aches x3 days. Took ibuprofen which somewhat helped with symptoms.\n",
      "Output (Extracted Symptoms): ['Palpitations', 'fever', 'chills', 'body aches', 'symptoms']\n",
      "--------------------------------------------------\n",
      "Report 33\n",
      "Input (SYMPTOM_TEXT): Sudden hearing loss right ear. Feels like water in the ear. Condition still persists as of 1/1/23.\n",
      "Output (Extracted Symptoms): ['Sudden hearing loss right ear']\n",
      "--------------------------------------------------\n",
      "Report 40\n",
      "Input (SYMPTOM_TEXT): HYSTERIA; CONDITIONS; This spontaneous report received from a consumer via a company representative concerned a female of unspecified age. The patient's weight, height, and medical history were not reported. The patient received covid-19 vaccine ad26.cov2.s (suspension for injection, route of admin, and batch number were not reported) dose, start therapy date were not reported for covid-19 prophylaxis. The batch number was not reported. Per procedure, no follow-up will be requested for this case.  No concomitant medications were reported. On an unspecified date, the patient experienced hysteria, and conditions. The action taken with covid-19 vaccine ad26.cov2.s was not applicable. The outcome of the hysteria and conditions was not reported. This report was non-serious.\n",
      "Output (Extracted Symptoms): ['HYSTERIA', 'hysteria', 'the hysteria']\n",
      "--------------------------------------------------\n",
      "Report 41\n",
      "Input (SYMPTOM_TEXT): Got myocarditis form the Moderna vaccines and had chest pain, sleepiness and shortness of breath; This spontaneous case was reported by a patient and describes the occurrence of MYOCARDITIS (Got myocarditis form the Moderna vaccines and had chest pain, sleepiness and shortness of breath) in a 76-year-old female patient who received mRNA-1273 (Moderna COVID-19 Vaccine) (batch nos. 015M20A and 206L20A) for COVID-19 prophylaxis.     Previously administered products included for Drug use for unknown indication: Flu shot (he has never had any side effects from previous flu shots.). Past adverse reactions to the above products included No adverse reaction with Flu shot.   On 15-Jan-2021, the patient received first dose of mRNA-1273 (Moderna COVID-19 Vaccine) (unknown route) 1 dosage form. On 12-Feb-2021, received second dose of mRNA-1273 (Moderna COVID-19 Vaccine) (unknown route) dosage was changed to 1 dosage form. In April 2021, the patient experienced MYOCARDITIS (Got myocarditis form the Moderna vaccines and had chest pain, sleepiness and shortness of breath) (seriousness criteria medically significant and life threatening). At the time of the report, MYOCARDITIS (Got myocarditis form the Moderna vaccines and had chest pain, sleepiness and shortness of breath) had not resolved.        For mRNA-1273 (Moderna COVID-19 Vaccine) (Unknown), the reporter did not provide any causality assessments.   No concomitant drug information was provided. patient's current age was reported as 78 years. Patient stated that she got myocarditis form the Moderna vaccines and had chest pain, sleepiness and shortness of breath with the most current Pfizer booster dose. The patient received third dose of Moderna vaccine on 11-Nov-2021 (lot number: 034F21A). It was reported that the patient had received the first Pfizer vaccine shot on 23jun2022, lot number FJ4991 and the most recent shot on 23Dec2022, lot number GH9697 in left arm via intramuscular injection. It was reported that after receiving the most recent dose, when patient started to leave the room, she felt funny. She was told to wait for 10-15 minutes. However, the patient didn't felt well and went on to home. While she was reading the leaflet information, which she was provided with at the vaccination room, she realized that she had myocarditis in April 2021. patient also reported that she felt that she had a bunch of PVCs in a row. It was further reported that the event wasn't completely gone, however, it was not like as it was first time. Patient reported that she still feels the myocarditis and she gets a pain in her heart and gets sleepy. Patient further stated that she was not hospitalized for the event.   Patient denied any other medications, medical conditions, labs, testing, or treatments relevant to these events. Patient was going to visit the hospital for check-up related to her myocarditis in March where possibly they'll recommend an echo to her.  Company comment:  This spontaneous case report concerns a 76-year-old female patient with no medical history provided, who experienced serious (life-threatening and medically significant) unexpected event of Myocarditis. The exact start date of the event was not clearly stated, as information was ambiguously reported. As per current available information the patient experienced myocarditis during April 2021 and she received the second dose of the vaccine during February 2021. The reporter stated that the event was life-threatening, however, she did not confirm that the event required hospitalization. No specific details regarding laboratory investigations and diagnostic procedures were provided. It was only stated that the patient would go for a checkup related to her myocarditis. Further information regarding this case is expected and the case will be reassessed upon receipt of additional details. The benefit-risk relationship of mRNA-1273 vaccine is not affected by this report.; Sender's Comments: This spontaneous case report concerns a 76-year-old female patient with no medical history provided, who experienced serious (life-threatening and medically significant) unexpected event of Myocarditis. The exact start date of the event was not clearly stated, as information was ambiguously reported. As per current available information the patient experienced myocarditis during April 2021 and she received the second dose of the vaccine during February 2021. The reporter stated that the event was life-threatening, however, she did not confirm that the event required hospitalization. No specific details regarding laboratory investigations and diagnostic procedures were provided. It was only stated that the patient would go for a checkup related to her myocarditis. Further information regarding this case is expected and the case will be reassessed upon receipt of additional details. The benefit-risk relationship of mRNA-1273 vaccine is not affected by this report.\n",
      "Output (Extracted Symptoms): ['myocarditis', 'chest pain', 'sleepiness', 'shortness of breath', 'MYOCARDITIS', 'myocarditis', 'chest pain', 'sleepiness', 'shortness of breath', 'any side effects', 'Past adverse reactions', 'adverse reaction', 'MYOCARDITIS', 'myocarditis', 'chest pain', 'sleepiness', 'shortness of breath', 'MYOCARDITIS', 'myocarditis', 'chest pain', 'sleepiness', 'shortness of breath', 'myocarditis', 'chest pain', 'sleepiness', 'shortness of breath', 'funny', 'myocarditis', 'the myocarditis', 'a pain in her heart', 'sleepy', 'medical conditions', 'her myocarditis', 'Myocarditis', 'myocarditis', 'life-threatening', 'her myocarditis', 'Myocarditis', 'myocarditis', 'life-threatening', 'her myocarditis']\n",
      "--------------------------------------------------\n",
      "Report 42\n",
      "Input (SYMPTOM_TEXT): 196 patients received 0.25mL of Moderna Covid-19 Vaccine, Bivalent.; No adverse Event; This spontaneous case was reported by an other health care professional and describes the occurrence of UNDERDOSE (196 patients received 0.25mL of Moderna Covid-19 Vaccine, Bivalent.) and NO ADVERSE EVENT (No adverse Event) in an adult patient of an unknown gender who received mRNA-1273 BIVALENT .222 (MODERNA COVID-19 VACCINE, BIVALENT (ORIGINAL AND OMICRON BA.4/BA.5)) for COVID-19 prophylaxis.     No Medical History information was reported.    On an unknown date, the patient received dose of mRNA-1273 BIVALENT .222 (MODERNA COVID-19 VACCINE, BIVALENT (ORIGINAL AND OMICRON BA.4/BA.5)) (unknown route) .25 milliliter. On an unknown date, the patient experienced UNDERDOSE (196 patients received 0.25mL of Moderna Covid-19 Vaccine, Bivalent.) and NO ADVERSE EVENT (No adverse Event). At the time of the report, UNDERDOSE (196 patients received 0.25mL of Moderna Covid-19 Vaccine, Bivalent.) and NO ADVERSE EVENT (No adverse Event) outcome was unknown.        For mRNA-1273 BIVALENT .222 (MODERNA COVID-19 VACCINE, BIVALENT (ORIGINAL AND OMICRON BA.4/BA.5)) (Unknown), the reporter considered NO ADVERSE EVENT (No adverse Event) to be not related. No further causality assessment was provided for UNDERDOSE (196 patients received 0.25mL of Moderna Covid-19 Vaccine, Bivalent.).    No concomitant drug information was provided. It was unknown if the patient had received any other vaccine 4 weeks prior to COVID-19 vaccine. No treatment drug information was provided.   Most recent FOLLOW-UP information incorporated above includes: On 27-Dec-2022: Follow up received wherein Narrative was updated.\n",
      "Output (Extracted Symptoms): ['adverse Event', 'ADVERSE EVENT', 'adverse Event', 'ADVERSE EVENT', 'adverse Event', 'ADVERSE EVENT', 'ADVERSE EVENT']\n",
      "--------------------------------------------------\n"
     ]
    }
   ],
   "source": [
    "# Assuming df_covid19_symptoms has the 'EXTRACTED_SYMPTOMS' column after applying the function\n",
    "for index, row in df_covid19_symptoms.head(20).iterrows():\n",
    "    print(f\"Report {index + 1}\")\n",
    "    print(\"Input (SYMPTOM_TEXT):\", row['SYMPTOM_TEXT'])\n",
    "    print(\"Output (Extracted Symptoms):\", row['EXTRACTED_SYMPTOMS'])\n",
    "    print(\"-\" * 50)\n"
   ]
  },
  {
   "cell_type": "code",
   "execution_count": 14,
   "metadata": {},
   "outputs": [],
   "source": [
    "df_covid19_symptoms.to_csv('extracted_symptoms.csv', index=False)"
   ]
  },
  {
   "cell_type": "markdown",
   "metadata": {},
   "source": [
    "## STEP 2: Link Entities to Standard Symptoms\n",
    "### Task: For each extracted symptom entity, map it to the term in a standard symptom list.\n",
    "- Input: A symptom detected in STEP 1, Vocabulary 1 (a list of standard symptoms), Vocabulary 2 (a list of the most common standard symptoms).\n",
    "- Output: Its standard symptom. For example, fever -> pyrexia, fatigue -> fatigue.\n",
    "- Evaluation: You can consider using different strategies to evaluate your outcome. For example, recall can be used to evaluate the percentage of symptoms that have been missed by your models. Precision can be used to evaluate if your model has identified4 many irrelevant or incorrect symptoms. You can also define your own evaluation metrics. \n",
    "\n",
    "    The goal is to\n",
    "\n",
    "    - Evaluate the performance based on standard symptom list.\n",
    "    - Evaluate the performance based on the most common standard symptom list.\n",
    "\n",
    "Make sure you have both automatic evaluation and manual evaluation. Here, for the manual\n",
    "evaluation, you can select 20~50 clinical notes and manually check the results."
   ]
  },
  {
   "cell_type": "code",
   "execution_count": 35,
   "metadata": {},
   "outputs": [
    {
     "data": {
      "text/html": [
       "<div>\n",
       "<style scoped>\n",
       "    .dataframe tbody tr th:only-of-type {\n",
       "        vertical-align: middle;\n",
       "    }\n",
       "\n",
       "    .dataframe tbody tr th {\n",
       "        vertical-align: top;\n",
       "    }\n",
       "\n",
       "    .dataframe thead th {\n",
       "        text-align: right;\n",
       "    }\n",
       "</style>\n",
       "<table border=\"1\" class=\"dataframe\">\n",
       "  <thead>\n",
       "    <tr style=\"text-align: right;\">\n",
       "      <th></th>\n",
       "      <th>Symptoms</th>\n",
       "      <th>Count</th>\n",
       "    </tr>\n",
       "  </thead>\n",
       "  <tbody>\n",
       "    <tr>\n",
       "      <th>0</th>\n",
       "      <td>COVID-19</td>\n",
       "      <td>2847</td>\n",
       "    </tr>\n",
       "    <tr>\n",
       "      <th>1</th>\n",
       "      <td>No adverse event</td>\n",
       "      <td>1995</td>\n",
       "    </tr>\n",
       "    <tr>\n",
       "      <th>2</th>\n",
       "      <td>SARS-CoV-2 test positive</td>\n",
       "      <td>1589</td>\n",
       "    </tr>\n",
       "    <tr>\n",
       "      <th>3</th>\n",
       "      <td>Product storage error</td>\n",
       "      <td>1211</td>\n",
       "    </tr>\n",
       "    <tr>\n",
       "      <th>4</th>\n",
       "      <td>Expired product administered</td>\n",
       "      <td>1097</td>\n",
       "    </tr>\n",
       "    <tr>\n",
       "      <th>...</th>\n",
       "      <td>...</td>\n",
       "      <td>...</td>\n",
       "    </tr>\n",
       "    <tr>\n",
       "      <th>3403</th>\n",
       "      <td>Serology abnormal</td>\n",
       "      <td>1</td>\n",
       "    </tr>\n",
       "    <tr>\n",
       "      <th>3404</th>\n",
       "      <td>Venous pressure jugular increased</td>\n",
       "      <td>1</td>\n",
       "    </tr>\n",
       "    <tr>\n",
       "      <th>3405</th>\n",
       "      <td>Diabetic nephropathy</td>\n",
       "      <td>1</td>\n",
       "    </tr>\n",
       "    <tr>\n",
       "      <th>3406</th>\n",
       "      <td>Electrocardiogram T wave inversion</td>\n",
       "      <td>1</td>\n",
       "    </tr>\n",
       "    <tr>\n",
       "      <th>3407</th>\n",
       "      <td>Lung neoplasm</td>\n",
       "      <td>1</td>\n",
       "    </tr>\n",
       "  </tbody>\n",
       "</table>\n",
       "<p>3408 rows × 2 columns</p>\n",
       "</div>"
      ],
      "text/plain": [
       "                                Symptoms  Count\n",
       "0                               COVID-19   2847\n",
       "1                       No adverse event   1995\n",
       "2               SARS-CoV-2 test positive   1589\n",
       "3                  Product storage error   1211\n",
       "4           Expired product administered   1097\n",
       "...                                  ...    ...\n",
       "3403                   Serology abnormal      1\n",
       "3404   Venous pressure jugular increased      1\n",
       "3405                Diabetic nephropathy      1\n",
       "3406  Electrocardiogram T wave inversion      1\n",
       "3407                       Lung neoplasm      1\n",
       "\n",
       "[3408 rows x 2 columns]"
      ]
     },
     "execution_count": 35,
     "metadata": {},
     "output_type": "execute_result"
    }
   ],
   "source": [
    "standard_symptoms"
   ]
  },
  {
   "cell_type": "code",
   "execution_count": 36,
   "metadata": {},
   "outputs": [
    {
     "data": {
      "text/html": [
       "<div>\n",
       "<style scoped>\n",
       "    .dataframe tbody tr th:only-of-type {\n",
       "        vertical-align: middle;\n",
       "    }\n",
       "\n",
       "    .dataframe tbody tr th {\n",
       "        vertical-align: top;\n",
       "    }\n",
       "\n",
       "    .dataframe thead th {\n",
       "        text-align: right;\n",
       "    }\n",
       "</style>\n",
       "<table border=\"1\" class=\"dataframe\">\n",
       "  <thead>\n",
       "    <tr style=\"text-align: right;\">\n",
       "      <th></th>\n",
       "      <th>Symptoms</th>\n",
       "      <th>Count</th>\n",
       "    </tr>\n",
       "  </thead>\n",
       "  <tbody>\n",
       "    <tr>\n",
       "      <th>0</th>\n",
       "      <td>COVID-19</td>\n",
       "      <td>2847</td>\n",
       "    </tr>\n",
       "    <tr>\n",
       "      <th>1</th>\n",
       "      <td>No adverse event</td>\n",
       "      <td>1995</td>\n",
       "    </tr>\n",
       "    <tr>\n",
       "      <th>2</th>\n",
       "      <td>SARS-CoV-2 test positive</td>\n",
       "      <td>1589</td>\n",
       "    </tr>\n",
       "    <tr>\n",
       "      <th>3</th>\n",
       "      <td>Product storage error</td>\n",
       "      <td>1211</td>\n",
       "    </tr>\n",
       "    <tr>\n",
       "      <th>4</th>\n",
       "      <td>Expired product administered</td>\n",
       "      <td>1097</td>\n",
       "    </tr>\n",
       "    <tr>\n",
       "      <th>...</th>\n",
       "      <td>...</td>\n",
       "      <td>...</td>\n",
       "    </tr>\n",
       "    <tr>\n",
       "      <th>95</th>\n",
       "      <td>Abdominal pain</td>\n",
       "      <td>69</td>\n",
       "    </tr>\n",
       "    <tr>\n",
       "      <th>96</th>\n",
       "      <td>Muscular weakness</td>\n",
       "      <td>68</td>\n",
       "    </tr>\n",
       "    <tr>\n",
       "      <th>97</th>\n",
       "      <td>Laboratory test abnormal</td>\n",
       "      <td>68</td>\n",
       "    </tr>\n",
       "    <tr>\n",
       "      <th>98</th>\n",
       "      <td>Injection site pain</td>\n",
       "      <td>67</td>\n",
       "    </tr>\n",
       "    <tr>\n",
       "      <th>99</th>\n",
       "      <td>Tremor</td>\n",
       "      <td>67</td>\n",
       "    </tr>\n",
       "  </tbody>\n",
       "</table>\n",
       "<p>100 rows × 2 columns</p>\n",
       "</div>"
      ],
      "text/plain": [
       "                        Symptoms  Count\n",
       "0                       COVID-19   2847\n",
       "1               No adverse event   1995\n",
       "2       SARS-CoV-2 test positive   1589\n",
       "3          Product storage error   1211\n",
       "4   Expired product administered   1097\n",
       "..                           ...    ...\n",
       "95                Abdominal pain     69\n",
       "96             Muscular weakness     68\n",
       "97      Laboratory test abnormal     68\n",
       "98           Injection site pain     67\n",
       "99                        Tremor     67\n",
       "\n",
       "[100 rows x 2 columns]"
      ]
     },
     "execution_count": 36,
     "metadata": {},
     "output_type": "execute_result"
    }
   ],
   "source": [
    "common_standard_symptoms"
   ]
  },
  {
   "cell_type": "code",
   "execution_count": 42,
   "metadata": {},
   "outputs": [
    {
     "data": {
      "text/plain": [
       "0        [a coma state, non responsive, Trauma, severe ...\n",
       "1                                                       []\n",
       "3                                                       []\n",
       "8                                                       []\n",
       "10       [Considerable swelling of left hand, closure o...\n",
       "                               ...                        \n",
       "21533                              [temperature excursion]\n",
       "21534                              [temperature excursion]\n",
       "21535                              [temperature excursion]\n",
       "21536                                          [dizziness]\n",
       "21539    [Greatly increased tinnitus in left ear, sever...\n",
       "Name: EXTRACTED_SYMPTOMS, Length: 10000, dtype: object"
      ]
     },
     "execution_count": 42,
     "metadata": {},
     "output_type": "execute_result"
    }
   ],
   "source": [
    "df_covid19_symptoms['EXTRACTED_SYMPTOMS']"
   ]
  },
  {
   "cell_type": "code",
   "execution_count": 60,
   "metadata": {},
   "outputs": [
    {
     "data": {
      "application/vnd.jupyter.widget-view+json": {
       "model_id": "034ffc368c814945aa7fbf6fd26595b6",
       "version_major": 2,
       "version_minor": 0
      },
      "text/plain": [
       "Matching Standard Symptoms:   0%|          | 0/10000 [00:00<?, ?it/s]"
      ]
     },
     "metadata": {},
     "output_type": "display_data"
    }
   ],
   "source": [
    "# Defining a function for fuzzy matching\n",
    "def fuzzy_match(symptom, standard_list, threshold=80):\n",
    "    match, score = process.extractOne(symptom, standard_list)\n",
    "    return match if score >= threshold else None\n",
    "\n",
    "def apply_fuzzy_matching_to_list(symptoms_list, standard_list):\n",
    "    matched_symptoms = set()  # Use a set to automatically handle duplicates\n",
    "    for symptom in symptoms_list:\n",
    "        match = fuzzy_match(symptom, standard_list)\n",
    "        if match:\n",
    "            matched_symptoms.add(match)\n",
    "    return list(matched_symptoms)  # Convert back to list\n",
    "\n",
    "def apply_exact_matching_to_list(symptoms_list, standard_set):\n",
    "    matched_symptoms = set(symptom for symptom in symptoms_list if symptom in standard_set)\n",
    "    return list(matched_symptoms)\n",
    "\n",
    "standard_symptoms_set = set(standard_symptoms['Symptoms'])\n",
    "common_standard_symptoms_set = set(common_standard_symptoms['Symptoms'])\n",
    "\n",
    "\n",
    "tqdm.pandas(desc=\"Matching Standard Symptoms\")\n",
    "df_covid19_symptoms['STANDARD_SYMPTOM_MATCH'] = df_covid19_symptoms['EXTRACTED_SYMPTOMS'].progress_apply(lambda x: apply_fuzzy_matching_to_list(x, list(standard_symptoms_set)))\n",
    "\n",
    "tqdm.pandas(desc=\"Matching Common Standard Symptoms\")\n",
    "df_covid19_symptoms['COMMON_SYMPTOM_MATCH'] = df_covid19_symptoms['EXTRACTED_SYMPTOMS'].progress_apply(lambda x: apply_fuzzy_matching_to_list(x, list(common_standard_symptoms_set)))\n",
    "\n",
    "df_covid19_symptoms.to_csv('linked_symptoms.csv', index=False)"
   ]
  },
  {
   "cell_type": "code",
   "execution_count": 59,
   "metadata": {},
   "outputs": [
    {
     "data": {
      "text/plain": [
       "0          [Fall, Blood creatinine increased, Headache]\n",
       "1                                                    []\n",
       "3                                                    []\n",
       "8                                                    []\n",
       "10    [Pain, Inappropriate schedule of product admin...\n",
       "13    [Pain, Hypertension, Headache, Heart rate incr...\n",
       "14    [Inappropriate schedule of product administrat...\n",
       "15                                           [Tinnitus]\n",
       "16                                                   []\n",
       "18    [Loss of personal independence in daily activi...\n",
       "21    [Chest pain, Rash, Loss of personal independen...\n",
       "23                                [Atrial fibrillation]\n",
       "24                                               [Pain]\n",
       "25                                            [Syncope]\n",
       "28                                         [Chest pain]\n",
       "29                               [Chills, Palpitations]\n",
       "32    [Loss of personal independence in daily activi...\n",
       "39                                                   []\n",
       "40    [Pain, Chest pain, Inappropriate schedule of p...\n",
       "41                                   [No adverse event]\n",
       "Name: COMMON_SYMPTOM_MATCH, dtype: object"
      ]
     },
     "execution_count": 59,
     "metadata": {},
     "output_type": "execute_result"
    }
   ],
   "source": [
    "df_covid19_symptoms['COMMON_SYMPTOM_MATCH'].head(50)"
   ]
  }
 ],
 "metadata": {
  "kernelspec": {
   "display_name": "base",
   "language": "python",
   "name": "python3"
  },
  "language_info": {
   "codemirror_mode": {
    "name": "ipython",
    "version": 3
   },
   "file_extension": ".py",
   "mimetype": "text/x-python",
   "name": "python",
   "nbconvert_exporter": "python",
   "pygments_lexer": "ipython3",
   "version": "3.7.11"
  }
 },
 "nbformat": 4,
 "nbformat_minor": 2
}
