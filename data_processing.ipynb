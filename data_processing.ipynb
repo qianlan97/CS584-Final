{
 "cells": [
  {
   "cell_type": "code",
   "execution_count": 32,
   "metadata": {},
   "outputs": [],
   "source": [
    "import numpy as np\n",
    "import pandas as pd\n",
    "import matplotlib.pyplot as plt"
   ]
  },
  {
   "cell_type": "markdown",
   "metadata": {},
   "source": [
    "## Load the data"
   ]
  },
  {
   "cell_type": "code",
   "execution_count": 33,
   "metadata": {},
   "outputs": [
    {
     "data": {
      "text/html": [
       "<div>\n",
       "<style scoped>\n",
       "    .dataframe tbody tr th:only-of-type {\n",
       "        vertical-align: middle;\n",
       "    }\n",
       "\n",
       "    .dataframe tbody tr th {\n",
       "        vertical-align: top;\n",
       "    }\n",
       "\n",
       "    .dataframe thead th {\n",
       "        text-align: right;\n",
       "    }\n",
       "</style>\n",
       "<table border=\"1\" class=\"dataframe\">\n",
       "  <thead>\n",
       "    <tr style=\"text-align: right;\">\n",
       "      <th></th>\n",
       "      <th>VAERS_ID</th>\n",
       "      <th>RECVDATE</th>\n",
       "      <th>STATE</th>\n",
       "      <th>AGE_YRS</th>\n",
       "      <th>CAGE_YR</th>\n",
       "      <th>CAGE_MO</th>\n",
       "      <th>SEX</th>\n",
       "      <th>RPT_DATE</th>\n",
       "      <th>SYMPTOM_TEXT</th>\n",
       "      <th>DIED</th>\n",
       "      <th>...</th>\n",
       "      <th>CUR_ILL</th>\n",
       "      <th>HISTORY</th>\n",
       "      <th>PRIOR_VAX</th>\n",
       "      <th>SPLTTYPE</th>\n",
       "      <th>FORM_VERS</th>\n",
       "      <th>TODAYS_DATE</th>\n",
       "      <th>BIRTH_DEFECT</th>\n",
       "      <th>OFC_VISIT</th>\n",
       "      <th>ER_ED_VISIT</th>\n",
       "      <th>ALLERGIES</th>\n",
       "    </tr>\n",
       "  </thead>\n",
       "  <tbody>\n",
       "    <tr>\n",
       "      <th>0</th>\n",
       "      <td>2547730</td>\n",
       "      <td>01/01/2023</td>\n",
       "      <td>DE</td>\n",
       "      <td>53.0</td>\n",
       "      <td>NaN</td>\n",
       "      <td>NaN</td>\n",
       "      <td>F</td>\n",
       "      <td>NaN</td>\n",
       "      <td>The adverse event is that the patient went int...</td>\n",
       "      <td>NaN</td>\n",
       "      <td>...</td>\n",
       "      <td>diabetic</td>\n",
       "      <td>NaN</td>\n",
       "      <td>NaN</td>\n",
       "      <td>NaN</td>\n",
       "      <td>2</td>\n",
       "      <td>12/31/2022</td>\n",
       "      <td>NaN</td>\n",
       "      <td>NaN</td>\n",
       "      <td>NaN</td>\n",
       "      <td>none</td>\n",
       "    </tr>\n",
       "    <tr>\n",
       "      <th>1</th>\n",
       "      <td>2547731</td>\n",
       "      <td>01/01/2023</td>\n",
       "      <td>MA</td>\n",
       "      <td>6.0</td>\n",
       "      <td>6.0</td>\n",
       "      <td>NaN</td>\n",
       "      <td>M</td>\n",
       "      <td>NaN</td>\n",
       "      <td>Error: Incorrect Reconstitution-</td>\n",
       "      <td>NaN</td>\n",
       "      <td>...</td>\n",
       "      <td>NaN</td>\n",
       "      <td>NaN</td>\n",
       "      <td>NaN</td>\n",
       "      <td>NaN</td>\n",
       "      <td>2</td>\n",
       "      <td>01/01/2023</td>\n",
       "      <td>NaN</td>\n",
       "      <td>NaN</td>\n",
       "      <td>NaN</td>\n",
       "      <td>NaN</td>\n",
       "    </tr>\n",
       "    <tr>\n",
       "      <th>2</th>\n",
       "      <td>2547732</td>\n",
       "      <td>01/01/2023</td>\n",
       "      <td>MA</td>\n",
       "      <td>38.0</td>\n",
       "      <td>38.0</td>\n",
       "      <td>NaN</td>\n",
       "      <td>F</td>\n",
       "      <td>NaN</td>\n",
       "      <td>Error: Patient Accidentally Stuck by Needle-</td>\n",
       "      <td>NaN</td>\n",
       "      <td>...</td>\n",
       "      <td>NaN</td>\n",
       "      <td>NaN</td>\n",
       "      <td>NaN</td>\n",
       "      <td>NaN</td>\n",
       "      <td>2</td>\n",
       "      <td>01/01/2023</td>\n",
       "      <td>NaN</td>\n",
       "      <td>NaN</td>\n",
       "      <td>NaN</td>\n",
       "      <td>NaN</td>\n",
       "    </tr>\n",
       "    <tr>\n",
       "      <th>3</th>\n",
       "      <td>2547733</td>\n",
       "      <td>01/01/2023</td>\n",
       "      <td>CA</td>\n",
       "      <td>63.0</td>\n",
       "      <td>63.0</td>\n",
       "      <td>NaN</td>\n",
       "      <td>M</td>\n",
       "      <td>NaN</td>\n",
       "      <td>Error: Dose in Series Given Too Early-</td>\n",
       "      <td>NaN</td>\n",
       "      <td>...</td>\n",
       "      <td>NaN</td>\n",
       "      <td>NaN</td>\n",
       "      <td>NaN</td>\n",
       "      <td>NaN</td>\n",
       "      <td>2</td>\n",
       "      <td>01/01/2023</td>\n",
       "      <td>NaN</td>\n",
       "      <td>NaN</td>\n",
       "      <td>NaN</td>\n",
       "      <td>NaN</td>\n",
       "    </tr>\n",
       "    <tr>\n",
       "      <th>4</th>\n",
       "      <td>2547734</td>\n",
       "      <td>01/01/2023</td>\n",
       "      <td>IL</td>\n",
       "      <td>30.0</td>\n",
       "      <td>30.0</td>\n",
       "      <td>NaN</td>\n",
       "      <td>F</td>\n",
       "      <td>NaN</td>\n",
       "      <td>Systemic: EYE TWITCHING-Medium</td>\n",
       "      <td>NaN</td>\n",
       "      <td>...</td>\n",
       "      <td>NaN</td>\n",
       "      <td>NaN</td>\n",
       "      <td>NaN</td>\n",
       "      <td>NaN</td>\n",
       "      <td>2</td>\n",
       "      <td>01/01/2023</td>\n",
       "      <td>NaN</td>\n",
       "      <td>NaN</td>\n",
       "      <td>NaN</td>\n",
       "      <td>NaN</td>\n",
       "    </tr>\n",
       "  </tbody>\n",
       "</table>\n",
       "<p>5 rows × 35 columns</p>\n",
       "</div>"
      ],
      "text/plain": [
       "   VAERS_ID    RECVDATE STATE  AGE_YRS  CAGE_YR  CAGE_MO SEX RPT_DATE  \\\n",
       "0   2547730  01/01/2023    DE     53.0      NaN      NaN   F      NaN   \n",
       "1   2547731  01/01/2023    MA      6.0      6.0      NaN   M      NaN   \n",
       "2   2547732  01/01/2023    MA     38.0     38.0      NaN   F      NaN   \n",
       "3   2547733  01/01/2023    CA     63.0     63.0      NaN   M      NaN   \n",
       "4   2547734  01/01/2023    IL     30.0     30.0      NaN   F      NaN   \n",
       "\n",
       "                                        SYMPTOM_TEXT DIED  ...   CUR_ILL  \\\n",
       "0  The adverse event is that the patient went int...  NaN  ...  diabetic   \n",
       "1                   Error: Incorrect Reconstitution-  NaN  ...       NaN   \n",
       "2       Error: Patient Accidentally Stuck by Needle-  NaN  ...       NaN   \n",
       "3             Error: Dose in Series Given Too Early-  NaN  ...       NaN   \n",
       "4                     Systemic: EYE TWITCHING-Medium  NaN  ...       NaN   \n",
       "\n",
       "  HISTORY PRIOR_VAX SPLTTYPE  FORM_VERS TODAYS_DATE BIRTH_DEFECT OFC_VISIT  \\\n",
       "0     NaN       NaN      NaN          2  12/31/2022          NaN       NaN   \n",
       "1     NaN       NaN      NaN          2  01/01/2023          NaN       NaN   \n",
       "2     NaN       NaN      NaN          2  01/01/2023          NaN       NaN   \n",
       "3     NaN       NaN      NaN          2  01/01/2023          NaN       NaN   \n",
       "4     NaN       NaN      NaN          2  01/01/2023          NaN       NaN   \n",
       "\n",
       "  ER_ED_VISIT ALLERGIES  \n",
       "0         NaN      none  \n",
       "1         NaN       NaN  \n",
       "2         NaN       NaN  \n",
       "3         NaN       NaN  \n",
       "4         NaN       NaN  \n",
       "\n",
       "[5 rows x 35 columns]"
      ]
     },
     "execution_count": 33,
     "metadata": {},
     "output_type": "execute_result"
    }
   ],
   "source": [
    "df_vaers_data = pd.read_csv('./2023VAERSData/2023VAERSDATA.csv', encoding='latin-1')\n",
    "df_vaers_data.head()"
   ]
  },
  {
   "cell_type": "code",
   "execution_count": 39,
   "metadata": {},
   "outputs": [
    {
     "data": {
      "text/html": [
       "<div>\n",
       "<style scoped>\n",
       "    .dataframe tbody tr th:only-of-type {\n",
       "        vertical-align: middle;\n",
       "    }\n",
       "\n",
       "    .dataframe tbody tr th {\n",
       "        vertical-align: top;\n",
       "    }\n",
       "\n",
       "    .dataframe thead th {\n",
       "        text-align: right;\n",
       "    }\n",
       "</style>\n",
       "<table border=\"1\" class=\"dataframe\">\n",
       "  <thead>\n",
       "    <tr style=\"text-align: right;\">\n",
       "      <th></th>\n",
       "      <th>VAERS_ID</th>\n",
       "      <th>SYMPTOM1</th>\n",
       "      <th>SYMPTOMVERSION1</th>\n",
       "      <th>SYMPTOM2</th>\n",
       "      <th>SYMPTOMVERSION2</th>\n",
       "      <th>SYMPTOM3</th>\n",
       "      <th>SYMPTOMVERSION3</th>\n",
       "      <th>SYMPTOM4</th>\n",
       "      <th>SYMPTOMVERSION4</th>\n",
       "      <th>SYMPTOM5</th>\n",
       "      <th>SYMPTOMVERSION5</th>\n",
       "    </tr>\n",
       "  </thead>\n",
       "  <tbody>\n",
       "    <tr>\n",
       "      <th>0</th>\n",
       "      <td>2547730</td>\n",
       "      <td>Blood pressure orthostatic abnormal</td>\n",
       "      <td>25.1</td>\n",
       "      <td>COVID-19</td>\n",
       "      <td>25.1</td>\n",
       "      <td>Coma</td>\n",
       "      <td>25.1</td>\n",
       "      <td>Computerised tomogram</td>\n",
       "      <td>25.1</td>\n",
       "      <td>Exposure to SARS-CoV-2</td>\n",
       "      <td>25.1</td>\n",
       "    </tr>\n",
       "    <tr>\n",
       "      <th>1</th>\n",
       "      <td>2547730</td>\n",
       "      <td>Head injury</td>\n",
       "      <td>25.1</td>\n",
       "      <td>Headache</td>\n",
       "      <td>25.1</td>\n",
       "      <td>Laboratory test</td>\n",
       "      <td>25.1</td>\n",
       "      <td>Magnetic resonance imaging</td>\n",
       "      <td>25.1</td>\n",
       "      <td>SARS-CoV-2 antibody test negative</td>\n",
       "      <td>25.1</td>\n",
       "    </tr>\n",
       "    <tr>\n",
       "      <th>2</th>\n",
       "      <td>2547730</td>\n",
       "      <td>SARS-CoV-2 test positive</td>\n",
       "      <td>25.1</td>\n",
       "      <td>Unresponsive to stimuli</td>\n",
       "      <td>25.1</td>\n",
       "      <td>X-ray</td>\n",
       "      <td>25.1</td>\n",
       "      <td>NaN</td>\n",
       "      <td>NaN</td>\n",
       "      <td>NaN</td>\n",
       "      <td>NaN</td>\n",
       "    </tr>\n",
       "    <tr>\n",
       "      <th>3</th>\n",
       "      <td>2547731</td>\n",
       "      <td>Product preparation issue</td>\n",
       "      <td>25.1</td>\n",
       "      <td>NaN</td>\n",
       "      <td>NaN</td>\n",
       "      <td>NaN</td>\n",
       "      <td>NaN</td>\n",
       "      <td>NaN</td>\n",
       "      <td>NaN</td>\n",
       "      <td>NaN</td>\n",
       "      <td>NaN</td>\n",
       "    </tr>\n",
       "    <tr>\n",
       "      <th>4</th>\n",
       "      <td>2547732</td>\n",
       "      <td>Injury associated with device</td>\n",
       "      <td>25.1</td>\n",
       "      <td>NaN</td>\n",
       "      <td>NaN</td>\n",
       "      <td>NaN</td>\n",
       "      <td>NaN</td>\n",
       "      <td>NaN</td>\n",
       "      <td>NaN</td>\n",
       "      <td>NaN</td>\n",
       "      <td>NaN</td>\n",
       "    </tr>\n",
       "  </tbody>\n",
       "</table>\n",
       "</div>"
      ],
      "text/plain": [
       "   VAERS_ID                             SYMPTOM1  SYMPTOMVERSION1  \\\n",
       "0   2547730  Blood pressure orthostatic abnormal             25.1   \n",
       "1   2547730                          Head injury             25.1   \n",
       "2   2547730             SARS-CoV-2 test positive             25.1   \n",
       "3   2547731            Product preparation issue             25.1   \n",
       "4   2547732        Injury associated with device             25.1   \n",
       "\n",
       "                  SYMPTOM2  SYMPTOMVERSION2         SYMPTOM3  SYMPTOMVERSION3  \\\n",
       "0                 COVID-19             25.1             Coma             25.1   \n",
       "1                 Headache             25.1  Laboratory test             25.1   \n",
       "2  Unresponsive to stimuli             25.1            X-ray             25.1   \n",
       "3                      NaN              NaN              NaN              NaN   \n",
       "4                      NaN              NaN              NaN              NaN   \n",
       "\n",
       "                     SYMPTOM4  SYMPTOMVERSION4  \\\n",
       "0       Computerised tomogram             25.1   \n",
       "1  Magnetic resonance imaging             25.1   \n",
       "2                         NaN              NaN   \n",
       "3                         NaN              NaN   \n",
       "4                         NaN              NaN   \n",
       "\n",
       "                            SYMPTOM5  SYMPTOMVERSION5  \n",
       "0             Exposure to SARS-CoV-2             25.1  \n",
       "1  SARS-CoV-2 antibody test negative             25.1  \n",
       "2                                NaN              NaN  \n",
       "3                                NaN              NaN  \n",
       "4                                NaN              NaN  "
      ]
     },
     "execution_count": 39,
     "metadata": {},
     "output_type": "execute_result"
    }
   ],
   "source": [
    "df_sympt = pd.read_csv('./2023VAERSData/2023VAERSSYMPTOMS.csv', encoding='latin-1')\n",
    "df_sympt.head()"
   ]
  },
  {
   "cell_type": "code",
   "execution_count": 35,
   "metadata": {},
   "outputs": [
    {
     "data": {
      "text/html": [
       "<div>\n",
       "<style scoped>\n",
       "    .dataframe tbody tr th:only-of-type {\n",
       "        vertical-align: middle;\n",
       "    }\n",
       "\n",
       "    .dataframe tbody tr th {\n",
       "        vertical-align: top;\n",
       "    }\n",
       "\n",
       "    .dataframe thead th {\n",
       "        text-align: right;\n",
       "    }\n",
       "</style>\n",
       "<table border=\"1\" class=\"dataframe\">\n",
       "  <thead>\n",
       "    <tr style=\"text-align: right;\">\n",
       "      <th></th>\n",
       "      <th>VAERS_ID</th>\n",
       "      <th>VAX_TYPE</th>\n",
       "      <th>VAX_MANU</th>\n",
       "      <th>VAX_LOT</th>\n",
       "      <th>VAX_DOSE_SERIES</th>\n",
       "      <th>VAX_ROUTE</th>\n",
       "      <th>VAX_SITE</th>\n",
       "      <th>VAX_NAME</th>\n",
       "    </tr>\n",
       "  </thead>\n",
       "  <tbody>\n",
       "    <tr>\n",
       "      <th>0</th>\n",
       "      <td>2547730</td>\n",
       "      <td>COVID19</td>\n",
       "      <td>JANSSEN</td>\n",
       "      <td>1808982</td>\n",
       "      <td>UNK</td>\n",
       "      <td>SYR</td>\n",
       "      <td>AR</td>\n",
       "      <td>COVID19 (COVID19 (JANSSEN))</td>\n",
       "    </tr>\n",
       "    <tr>\n",
       "      <th>1</th>\n",
       "      <td>2547731</td>\n",
       "      <td>COVID19</td>\n",
       "      <td>PFIZER\\BIONTECH</td>\n",
       "      <td>GK1657</td>\n",
       "      <td>3</td>\n",
       "      <td>IM</td>\n",
       "      <td>LA</td>\n",
       "      <td>COVID19 (COVID19 (PFIZER-BIONTECH))</td>\n",
       "    </tr>\n",
       "    <tr>\n",
       "      <th>2</th>\n",
       "      <td>2547732</td>\n",
       "      <td>COVID19-2</td>\n",
       "      <td>MODERNA</td>\n",
       "      <td>141H22A</td>\n",
       "      <td>4</td>\n",
       "      <td>IM</td>\n",
       "      <td>LA</td>\n",
       "      <td>COVID19 (COVID19 (MODERNA BIVALENT))</td>\n",
       "    </tr>\n",
       "    <tr>\n",
       "      <th>3</th>\n",
       "      <td>2547733</td>\n",
       "      <td>COVID19</td>\n",
       "      <td>MODERNA</td>\n",
       "      <td>042h22a</td>\n",
       "      <td>1</td>\n",
       "      <td>IM</td>\n",
       "      <td>LA</td>\n",
       "      <td>COVID19 (COVID19 (MODERNA))</td>\n",
       "    </tr>\n",
       "    <tr>\n",
       "      <th>4</th>\n",
       "      <td>2547734</td>\n",
       "      <td>TDAP</td>\n",
       "      <td>GLAXOSMITHKLINE BIOLOGICALS</td>\n",
       "      <td>KP547</td>\n",
       "      <td>1</td>\n",
       "      <td>IM</td>\n",
       "      <td>LA</td>\n",
       "      <td>TDAP (BOOSTRIX)</td>\n",
       "    </tr>\n",
       "  </tbody>\n",
       "</table>\n",
       "</div>"
      ],
      "text/plain": [
       "   VAERS_ID   VAX_TYPE                     VAX_MANU  VAX_LOT VAX_DOSE_SERIES  \\\n",
       "0   2547730    COVID19                      JANSSEN  1808982             UNK   \n",
       "1   2547731    COVID19              PFIZER\\BIONTECH   GK1657               3   \n",
       "2   2547732  COVID19-2                      MODERNA  141H22A               4   \n",
       "3   2547733    COVID19                      MODERNA  042h22a               1   \n",
       "4   2547734       TDAP  GLAXOSMITHKLINE BIOLOGICALS    KP547               1   \n",
       "\n",
       "  VAX_ROUTE VAX_SITE                              VAX_NAME  \n",
       "0       SYR       AR           COVID19 (COVID19 (JANSSEN))  \n",
       "1        IM       LA   COVID19 (COVID19 (PFIZER-BIONTECH))  \n",
       "2        IM       LA  COVID19 (COVID19 (MODERNA BIVALENT))  \n",
       "3        IM       LA           COVID19 (COVID19 (MODERNA))  \n",
       "4        IM       LA                       TDAP (BOOSTRIX)  "
      ]
     },
     "execution_count": 35,
     "metadata": {},
     "output_type": "execute_result"
    }
   ],
   "source": [
    "df_vax = pd.read_csv('./2023VAERSData/2023VAERSVAX.csv', encoding='latin-1')\n",
    "df_vax.head()"
   ]
  },
  {
   "cell_type": "markdown",
   "metadata": {},
   "source": [
    "## Process Data\n",
    "#### a. Select a vaccine type based on VAERS Vaccine table. For example, COVID19, FLU3, or TDAP.\n",
    "#### b. Based on the VAERS_ID, get around 10,000 reports related to the vaccine you selected from the column SYMPTOM_TEXT in the VAERS DATA table."
   ]
  },
  {
   "cell_type": "code",
   "execution_count": 36,
   "metadata": {},
   "outputs": [
    {
     "data": {
      "text/plain": [
       "(array([2547730, 2547731, 2547733, 2547739, 2547741, 2547744, 2547745,\n",
       "        2547746, 2547747, 2547749], dtype=int64),\n",
       " 40186)"
      ]
     },
     "execution_count": 36,
     "metadata": {},
     "output_type": "execute_result"
    }
   ],
   "source": [
    "df_covid19 = df_vax[df_vax['VAX_TYPE'] == 'COVID19']\n",
    "vaers_ids_covid19 = df_covid19['VAERS_ID'].unique()\n",
    "vaers_ids_covid19[:10], len(vaers_ids_covid19)"
   ]
  },
  {
   "cell_type": "code",
   "execution_count": 37,
   "metadata": {},
   "outputs": [
    {
     "data": {
      "text/plain": [
       "(    VAERS_ID                                       SYMPTOM_TEXT\n",
       " 0    2547730  The adverse event is that the patient went int...\n",
       " 1    2547731                   Error: Incorrect Reconstitution-\n",
       " 3    2547733             Error: Dose in Series Given Too Early-\n",
       " 8    2547739             Error: Dose in Series Given Too Early-\n",
       " 10   2547741  Considerable swelling of left hand which preve...,\n",
       " 10000)"
      ]
     },
     "execution_count": 37,
     "metadata": {},
     "output_type": "execute_result"
    }
   ],
   "source": [
    "df_covid19_reports = df_vaers_data[df_vaers_data['VAERS_ID'].isin(vaers_ids_covid19)]\n",
    "df_covid19_symptoms = df_covid19_reports[['VAERS_ID', 'SYMPTOM_TEXT']].head(10000)\n",
    "df_covid19_symptoms.head(), len(df_covid19_symptoms)"
   ]
  },
  {
   "cell_type": "markdown",
   "metadata": {},
   "source": [
    "#### c. Perform some statistical analysis of your data. For example, you can get the distribution of the number of different symptoms related that vaccine type. You can also get the distribution of the length of different reports."
   ]
  },
  {
   "cell_type": "code",
   "execution_count": 38,
   "metadata": {},
   "outputs": [
    {
     "data": {
      "image/png": "[encoded data removed]",
      "text/plain": [
       "<Figure size 720x432 with 1 Axes>"
      ]
     },
     "metadata": {
      "needs_background": "light"
     },
     "output_type": "display_data"
    },
    {
     "data": {
      "text/plain": [
       "count    10000.000000\n",
       "mean      1042.349700\n",
       "std       1430.146538\n",
       "min          2.000000\n",
       "25%        113.000000\n",
       "50%        439.000000\n",
       "75%       1677.000000\n",
       "max      21985.000000\n",
       "Name: REPORT_LENGTH, dtype: float64"
      ]
     },
     "execution_count": 38,
     "metadata": {},
     "output_type": "execute_result"
    }
   ],
   "source": [
    "df_covid19_symptoms['SYMPTOM_TEXT'] = df_covid19_symptoms['SYMPTOM_TEXT'].astype(str)\n",
    "df_covid19_symptoms['REPORT_LENGTH'] = df_covid19_symptoms['SYMPTOM_TEXT'].apply(len)\n",
    "\n",
    "plt.figure(figsize=(10, 6))\n",
    "plt.hist(df_covid19_symptoms['REPORT_LENGTH'], bins=50, color='blue', edgecolor='black')\n",
    "plt.title('Distribution of COVID-19 Vaccine Symptom Report Lengths')\n",
    "plt.xlabel('Length of Report')\n",
    "plt.ylabel('Frequency')\n",
    "plt.grid(True)\n",
    "plt.show()\n",
    "\n",
    "report_length_stats = df_covid19_symptoms['REPORT_LENGTH'].describe()\n",
    "report_length_stats"
   ]
  },
  {
   "cell_type": "markdown",
   "metadata": {},
   "source": [
    "#### d. For the reports you selected in 2.b, build the corresponding standard symptom list with the symptoms in VAERS Symptoms table. Further, please find the most common symptoms (e.g., the most frequent 100 symptoms.)"
   ]
  },
  {
   "cell_type": "code",
   "execution_count": 42,
   "metadata": {},
   "outputs": [
    {
     "data": {
      "text/plain": [
       "25.1                        43470\n",
       "COVID-19                     2847\n",
       "No adverse event             1995\n",
       "SARS-CoV-2 test positive     1589\n",
       "Product storage error        1211\n",
       "                            ...  \n",
       "Syncope                        70\n",
       "Anxiety                        70\n",
       "Back pain                      69\n",
       "Abdominal pain                 69\n",
       "Laboratory test abnormal       68\n",
       "Length: 100, dtype: int64"
      ]
     },
     "execution_count": 42,
     "metadata": {},
     "output_type": "execute_result"
    }
   ],
   "source": [
    "df_covid19_symptoms_full = pd.merge(df_covid19_symptoms[['VAERS_ID']], df_sympt, on='VAERS_ID', how='inner')\n",
    "symptom_columns = [col for col in df_sympt.columns if 'SYMPTOM' in col]\n",
    "df_covid19_symptoms_full['SYMPTOMS_LIST'] = df_covid19_symptoms_full[symptom_columns].values.tolist()\n",
    "all_symptoms = [symptom for sublist in df_covid19_symptoms_full['SYMPTOMS_LIST'].tolist() for symptom in sublist if pd.notnull(symptom)]\n",
    "symptom_counts = pd.Series(all_symptoms).value_counts()\n",
    "\n",
    "top_100_symptoms = symptom_counts.head(100)\n",
    "top_100_symptoms"
   ]
  },
  {
   "cell_type": "markdown",
   "metadata": {},
   "source": [
    "This most common symptom '25.1' doesn't seems like an actual symtom. Let's remove it so that `COVID-19` and `No adverse event` as two most common symptom looks more realistic."
   ]
  },
  {
   "cell_type": "code",
   "execution_count": 43,
   "metadata": {},
   "outputs": [
    {
     "data": {
      "text/plain": [
       "COVID-19                        2847\n",
       "No adverse event                1995\n",
       "SARS-CoV-2 test positive        1589\n",
       "Product storage error           1211\n",
       "Expired product administered    1097\n",
       "                                ... \n",
       "Anxiety                           70\n",
       "Back pain                         69\n",
       "Abdominal pain                    69\n",
       "Laboratory test abnormal          68\n",
       "Muscular weakness                 68\n",
       "Length: 100, dtype: int64"
      ]
     },
     "execution_count": 43,
     "metadata": {},
     "output_type": "execute_result"
    }
   ],
   "source": [
    "symptom_counts.index = symptom_counts.index.map(str)\n",
    "symptom_counts_cleaned = symptom_counts.drop(labels=[\"25.1\"])\n",
    "top_100_symptoms_cleaned = symptom_counts_cleaned.head(100)\n",
    "top_100_symptoms_cleaned"
   ]
  },
  {
   "cell_type": "markdown",
   "metadata": {},
   "source": [
    "## STEP 1: Extracting Symptom-related Entities:\n",
    "### Task:\n",
    "- Input: Description of vaccine adverse events (i.e., SYMPTOM TEXT in VAERS DATA table).\n",
    "- Output: A list of symptom related entities.\n",
    "- Evaluation: There is no ground truth annotation for the data. You need to manually check 20+ reports to see if there are entities that are missed by the model or package."
   ]
  }
 ],
 "metadata": {
  "kernelspec": {
   "display_name": "base",
   "language": "python",
   "name": "python3"
  },
  "language_info": {
   "codemirror_mode": {
    "name": "ipython",
    "version": 3
   },
   "file_extension": ".py",
   "mimetype": "text/x-python",
   "name": "python",
   "nbconvert_exporter": "python",
   "pygments_lexer": "ipython3",
   "version": "3.9.12"
  }
 },
 "nbformat": 4,
 "nbformat_minor": 2
}
