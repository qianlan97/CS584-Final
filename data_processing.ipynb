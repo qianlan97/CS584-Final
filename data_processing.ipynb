{
 "cells": [
  {
   "cell_type": "code",
   "execution_count": 14,
   "metadata": {},
   "outputs": [],
   "source": [
    "import numpy as np\n",
    "import pandas as pd\n",
    "import matplotlib.pyplot as plt\n",
    "import stanza\n",
    "from tqdm.notebook import tqdm"
   ]
  },
  {
   "cell_type": "markdown",
   "metadata": {},
   "source": [
    "## Load the data"
   ]
  },
  {
   "cell_type": "code",
   "execution_count": 15,
   "metadata": {},
   "outputs": [
    {
     "data": {
      "text/html": [
       "<div>\n",
       "<style scoped>\n",
       "    .dataframe tbody tr th:only-of-type {\n",
       "        vertical-align: middle;\n",
       "    }\n",
       "\n",
       "    .dataframe tbody tr th {\n",
       "        vertical-align: top;\n",
       "    }\n",
       "\n",
       "    .dataframe thead th {\n",
       "        text-align: right;\n",
       "    }\n",
       "</style>\n",
       "<table border=\"1\" class=\"dataframe\">\n",
       "  <thead>\n",
       "    <tr style=\"text-align: right;\">\n",
       "      <th></th>\n",
       "      <th>VAERS_ID</th>\n",
       "      <th>RECVDATE</th>\n",
       "      <th>STATE</th>\n",
       "      <th>AGE_YRS</th>\n",
       "      <th>CAGE_YR</th>\n",
       "      <th>CAGE_MO</th>\n",
       "      <th>SEX</th>\n",
       "      <th>RPT_DATE</th>\n",
       "      <th>SYMPTOM_TEXT</th>\n",
       "      <th>DIED</th>\n",
       "      <th>...</th>\n",
       "      <th>CUR_ILL</th>\n",
       "      <th>HISTORY</th>\n",
       "      <th>PRIOR_VAX</th>\n",
       "      <th>SPLTTYPE</th>\n",
       "      <th>FORM_VERS</th>\n",
       "      <th>TODAYS_DATE</th>\n",
       "      <th>BIRTH_DEFECT</th>\n",
       "      <th>OFC_VISIT</th>\n",
       "      <th>ER_ED_VISIT</th>\n",
       "      <th>ALLERGIES</th>\n",
       "    </tr>\n",
       "  </thead>\n",
       "  <tbody>\n",
       "    <tr>\n",
       "      <th>0</th>\n",
       "      <td>2547730</td>\n",
       "      <td>01/01/2023</td>\n",
       "      <td>DE</td>\n",
       "      <td>53.0</td>\n",
       "      <td>NaN</td>\n",
       "      <td>NaN</td>\n",
       "      <td>F</td>\n",
       "      <td>NaN</td>\n",
       "      <td>The adverse event is that the patient went int...</td>\n",
       "      <td>NaN</td>\n",
       "      <td>...</td>\n",
       "      <td>diabetic</td>\n",
       "      <td>NaN</td>\n",
       "      <td>NaN</td>\n",
       "      <td>NaN</td>\n",
       "      <td>2</td>\n",
       "      <td>12/31/2022</td>\n",
       "      <td>NaN</td>\n",
       "      <td>NaN</td>\n",
       "      <td>NaN</td>\n",
       "      <td>none</td>\n",
       "    </tr>\n",
       "    <tr>\n",
       "      <th>1</th>\n",
       "      <td>2547731</td>\n",
       "      <td>01/01/2023</td>\n",
       "      <td>MA</td>\n",
       "      <td>6.0</td>\n",
       "      <td>6.0</td>\n",
       "      <td>NaN</td>\n",
       "      <td>M</td>\n",
       "      <td>NaN</td>\n",
       "      <td>Error: Incorrect Reconstitution-</td>\n",
       "      <td>NaN</td>\n",
       "      <td>...</td>\n",
       "      <td>NaN</td>\n",
       "      <td>NaN</td>\n",
       "      <td>NaN</td>\n",
       "      <td>NaN</td>\n",
       "      <td>2</td>\n",
       "      <td>01/01/2023</td>\n",
       "      <td>NaN</td>\n",
       "      <td>NaN</td>\n",
       "      <td>NaN</td>\n",
       "      <td>NaN</td>\n",
       "    </tr>\n",
       "    <tr>\n",
       "      <th>2</th>\n",
       "      <td>2547732</td>\n",
       "      <td>01/01/2023</td>\n",
       "      <td>MA</td>\n",
       "      <td>38.0</td>\n",
       "      <td>38.0</td>\n",
       "      <td>NaN</td>\n",
       "      <td>F</td>\n",
       "      <td>NaN</td>\n",
       "      <td>Error: Patient Accidentally Stuck by Needle-</td>\n",
       "      <td>NaN</td>\n",
       "      <td>...</td>\n",
       "      <td>NaN</td>\n",
       "      <td>NaN</td>\n",
       "      <td>NaN</td>\n",
       "      <td>NaN</td>\n",
       "      <td>2</td>\n",
       "      <td>01/01/2023</td>\n",
       "      <td>NaN</td>\n",
       "      <td>NaN</td>\n",
       "      <td>NaN</td>\n",
       "      <td>NaN</td>\n",
       "    </tr>\n",
       "    <tr>\n",
       "      <th>3</th>\n",
       "      <td>2547733</td>\n",
       "      <td>01/01/2023</td>\n",
       "      <td>CA</td>\n",
       "      <td>63.0</td>\n",
       "      <td>63.0</td>\n",
       "      <td>NaN</td>\n",
       "      <td>M</td>\n",
       "      <td>NaN</td>\n",
       "      <td>Error: Dose in Series Given Too Early-</td>\n",
       "      <td>NaN</td>\n",
       "      <td>...</td>\n",
       "      <td>NaN</td>\n",
       "      <td>NaN</td>\n",
       "      <td>NaN</td>\n",
       "      <td>NaN</td>\n",
       "      <td>2</td>\n",
       "      <td>01/01/2023</td>\n",
       "      <td>NaN</td>\n",
       "      <td>NaN</td>\n",
       "      <td>NaN</td>\n",
       "      <td>NaN</td>\n",
       "    </tr>\n",
       "    <tr>\n",
       "      <th>4</th>\n",
       "      <td>2547734</td>\n",
       "      <td>01/01/2023</td>\n",
       "      <td>IL</td>\n",
       "      <td>30.0</td>\n",
       "      <td>30.0</td>\n",
       "      <td>NaN</td>\n",
       "      <td>F</td>\n",
       "      <td>NaN</td>\n",
       "      <td>Systemic: EYE TWITCHING-Medium</td>\n",
       "      <td>NaN</td>\n",
       "      <td>...</td>\n",
       "      <td>NaN</td>\n",
       "      <td>NaN</td>\n",
       "      <td>NaN</td>\n",
       "      <td>NaN</td>\n",
       "      <td>2</td>\n",
       "      <td>01/01/2023</td>\n",
       "      <td>NaN</td>\n",
       "      <td>NaN</td>\n",
       "      <td>NaN</td>\n",
       "      <td>NaN</td>\n",
       "    </tr>\n",
       "  </tbody>\n",
       "</table>\n",
       "<p>5 rows × 35 columns</p>\n",
       "</div>"
      ],
      "text/plain": [
       "   VAERS_ID    RECVDATE STATE  AGE_YRS  CAGE_YR  CAGE_MO SEX RPT_DATE  \\\n",
       "0   2547730  01/01/2023    DE     53.0      NaN      NaN   F      NaN   \n",
       "1   2547731  01/01/2023    MA      6.0      6.0      NaN   M      NaN   \n",
       "2   2547732  01/01/2023    MA     38.0     38.0      NaN   F      NaN   \n",
       "3   2547733  01/01/2023    CA     63.0     63.0      NaN   M      NaN   \n",
       "4   2547734  01/01/2023    IL     30.0     30.0      NaN   F      NaN   \n",
       "\n",
       "                                        SYMPTOM_TEXT DIED  ...   CUR_ILL  \\\n",
       "0  The adverse event is that the patient went int...  NaN  ...  diabetic   \n",
       "1                   Error: Incorrect Reconstitution-  NaN  ...       NaN   \n",
       "2       Error: Patient Accidentally Stuck by Needle-  NaN  ...       NaN   \n",
       "3             Error: Dose in Series Given Too Early-  NaN  ...       NaN   \n",
       "4                     Systemic: EYE TWITCHING-Medium  NaN  ...       NaN   \n",
       "\n",
       "  HISTORY PRIOR_VAX SPLTTYPE  FORM_VERS TODAYS_DATE BIRTH_DEFECT OFC_VISIT  \\\n",
       "0     NaN       NaN      NaN          2  12/31/2022          NaN       NaN   \n",
       "1     NaN       NaN      NaN          2  01/01/2023          NaN       NaN   \n",
       "2     NaN       NaN      NaN          2  01/01/2023          NaN       NaN   \n",
       "3     NaN       NaN      NaN          2  01/01/2023          NaN       NaN   \n",
       "4     NaN       NaN      NaN          2  01/01/2023          NaN       NaN   \n",
       "\n",
       "  ER_ED_VISIT ALLERGIES  \n",
       "0         NaN      none  \n",
       "1         NaN       NaN  \n",
       "2         NaN       NaN  \n",
       "3         NaN       NaN  \n",
       "4         NaN       NaN  \n",
       "\n",
       "[5 rows x 35 columns]"
      ]
     },
     "execution_count": 15,
     "metadata": {},
     "output_type": "execute_result"
    }
   ],
   "source": [
    "df_vaers_data = pd.read_csv('./2023VAERSData/2023VAERSDATA.csv', encoding='latin-1')\n",
    "df_vaers_data.head()"
   ]
  },
  {
   "cell_type": "code",
   "execution_count": 16,
   "metadata": {},
   "outputs": [
    {
     "data": {
      "text/html": [
       "<div>\n",
       "<style scoped>\n",
       "    .dataframe tbody tr th:only-of-type {\n",
       "        vertical-align: middle;\n",
       "    }\n",
       "\n",
       "    .dataframe tbody tr th {\n",
       "        vertical-align: top;\n",
       "    }\n",
       "\n",
       "    .dataframe thead th {\n",
       "        text-align: right;\n",
       "    }\n",
       "</style>\n",
       "<table border=\"1\" class=\"dataframe\">\n",
       "  <thead>\n",
       "    <tr style=\"text-align: right;\">\n",
       "      <th></th>\n",
       "      <th>VAERS_ID</th>\n",
       "      <th>SYMPTOM1</th>\n",
       "      <th>SYMPTOMVERSION1</th>\n",
       "      <th>SYMPTOM2</th>\n",
       "      <th>SYMPTOMVERSION2</th>\n",
       "      <th>SYMPTOM3</th>\n",
       "      <th>SYMPTOMVERSION3</th>\n",
       "      <th>SYMPTOM4</th>\n",
       "      <th>SYMPTOMVERSION4</th>\n",
       "      <th>SYMPTOM5</th>\n",
       "      <th>SYMPTOMVERSION5</th>\n",
       "    </tr>\n",
       "  </thead>\n",
       "  <tbody>\n",
       "    <tr>\n",
       "      <th>0</th>\n",
       "      <td>2547730</td>\n",
       "      <td>Blood pressure orthostatic abnormal</td>\n",
       "      <td>25.1</td>\n",
       "      <td>COVID-19</td>\n",
       "      <td>25.1</td>\n",
       "      <td>Coma</td>\n",
       "      <td>25.1</td>\n",
       "      <td>Computerised tomogram</td>\n",
       "      <td>25.1</td>\n",
       "      <td>Exposure to SARS-CoV-2</td>\n",
       "      <td>25.1</td>\n",
       "    </tr>\n",
       "    <tr>\n",
       "      <th>1</th>\n",
       "      <td>2547730</td>\n",
       "      <td>Head injury</td>\n",
       "      <td>25.1</td>\n",
       "      <td>Headache</td>\n",
       "      <td>25.1</td>\n",
       "      <td>Laboratory test</td>\n",
       "      <td>25.1</td>\n",
       "      <td>Magnetic resonance imaging</td>\n",
       "      <td>25.1</td>\n",
       "      <td>SARS-CoV-2 antibody test negative</td>\n",
       "      <td>25.1</td>\n",
       "    </tr>\n",
       "    <tr>\n",
       "      <th>2</th>\n",
       "      <td>2547730</td>\n",
       "      <td>SARS-CoV-2 test positive</td>\n",
       "      <td>25.1</td>\n",
       "      <td>Unresponsive to stimuli</td>\n",
       "      <td>25.1</td>\n",
       "      <td>X-ray</td>\n",
       "      <td>25.1</td>\n",
       "      <td>NaN</td>\n",
       "      <td>NaN</td>\n",
       "      <td>NaN</td>\n",
       "      <td>NaN</td>\n",
       "    </tr>\n",
       "    <tr>\n",
       "      <th>3</th>\n",
       "      <td>2547731</td>\n",
       "      <td>Product preparation issue</td>\n",
       "      <td>25.1</td>\n",
       "      <td>NaN</td>\n",
       "      <td>NaN</td>\n",
       "      <td>NaN</td>\n",
       "      <td>NaN</td>\n",
       "      <td>NaN</td>\n",
       "      <td>NaN</td>\n",
       "      <td>NaN</td>\n",
       "      <td>NaN</td>\n",
       "    </tr>\n",
       "    <tr>\n",
       "      <th>4</th>\n",
       "      <td>2547732</td>\n",
       "      <td>Injury associated with device</td>\n",
       "      <td>25.1</td>\n",
       "      <td>NaN</td>\n",
       "      <td>NaN</td>\n",
       "      <td>NaN</td>\n",
       "      <td>NaN</td>\n",
       "      <td>NaN</td>\n",
       "      <td>NaN</td>\n",
       "      <td>NaN</td>\n",
       "      <td>NaN</td>\n",
       "    </tr>\n",
       "  </tbody>\n",
       "</table>\n",
       "</div>"
      ],
      "text/plain": [
       "   VAERS_ID                             SYMPTOM1  SYMPTOMVERSION1  \\\n",
       "0   2547730  Blood pressure orthostatic abnormal             25.1   \n",
       "1   2547730                          Head injury             25.1   \n",
       "2   2547730             SARS-CoV-2 test positive             25.1   \n",
       "3   2547731            Product preparation issue             25.1   \n",
       "4   2547732        Injury associated with device             25.1   \n",
       "\n",
       "                  SYMPTOM2  SYMPTOMVERSION2         SYMPTOM3  SYMPTOMVERSION3  \\\n",
       "0                 COVID-19             25.1             Coma             25.1   \n",
       "1                 Headache             25.1  Laboratory test             25.1   \n",
       "2  Unresponsive to stimuli             25.1            X-ray             25.1   \n",
       "3                      NaN              NaN              NaN              NaN   \n",
       "4                      NaN              NaN              NaN              NaN   \n",
       "\n",
       "                     SYMPTOM4  SYMPTOMVERSION4  \\\n",
       "0       Computerised tomogram             25.1   \n",
       "1  Magnetic resonance imaging             25.1   \n",
       "2                         NaN              NaN   \n",
       "3                         NaN              NaN   \n",
       "4                         NaN              NaN   \n",
       "\n",
       "                            SYMPTOM5  SYMPTOMVERSION5  \n",
       "0             Exposure to SARS-CoV-2             25.1  \n",
       "1  SARS-CoV-2 antibody test negative             25.1  \n",
       "2                                NaN              NaN  \n",
       "3                                NaN              NaN  \n",
       "4                                NaN              NaN  "
      ]
     },
     "execution_count": 16,
     "metadata": {},
     "output_type": "execute_result"
    }
   ],
   "source": [
    "df_sympt = pd.read_csv('./2023VAERSData/2023VAERSSYMPTOMS.csv', encoding='latin-1')\n",
    "df_sympt.head()"
   ]
  },
  {
   "cell_type": "code",
   "execution_count": 17,
   "metadata": {},
   "outputs": [
    {
     "data": {
      "text/html": [
       "<div>\n",
       "<style scoped>\n",
       "    .dataframe tbody tr th:only-of-type {\n",
       "        vertical-align: middle;\n",
       "    }\n",
       "\n",
       "    .dataframe tbody tr th {\n",
       "        vertical-align: top;\n",
       "    }\n",
       "\n",
       "    .dataframe thead th {\n",
       "        text-align: right;\n",
       "    }\n",
       "</style>\n",
       "<table border=\"1\" class=\"dataframe\">\n",
       "  <thead>\n",
       "    <tr style=\"text-align: right;\">\n",
       "      <th></th>\n",
       "      <th>VAERS_ID</th>\n",
       "      <th>VAX_TYPE</th>\n",
       "      <th>VAX_MANU</th>\n",
       "      <th>VAX_LOT</th>\n",
       "      <th>VAX_DOSE_SERIES</th>\n",
       "      <th>VAX_ROUTE</th>\n",
       "      <th>VAX_SITE</th>\n",
       "      <th>VAX_NAME</th>\n",
       "    </tr>\n",
       "  </thead>\n",
       "  <tbody>\n",
       "    <tr>\n",
       "      <th>0</th>\n",
       "      <td>2547730</td>\n",
       "      <td>COVID19</td>\n",
       "      <td>JANSSEN</td>\n",
       "      <td>1808982</td>\n",
       "      <td>UNK</td>\n",
       "      <td>SYR</td>\n",
       "      <td>AR</td>\n",
       "      <td>COVID19 (COVID19 (JANSSEN))</td>\n",
       "    </tr>\n",
       "    <tr>\n",
       "      <th>1</th>\n",
       "      <td>2547731</td>\n",
       "      <td>COVID19</td>\n",
       "      <td>PFIZER\\BIONTECH</td>\n",
       "      <td>GK1657</td>\n",
       "      <td>3</td>\n",
       "      <td>IM</td>\n",
       "      <td>LA</td>\n",
       "      <td>COVID19 (COVID19 (PFIZER-BIONTECH))</td>\n",
       "    </tr>\n",
       "    <tr>\n",
       "      <th>2</th>\n",
       "      <td>2547732</td>\n",
       "      <td>COVID19-2</td>\n",
       "      <td>MODERNA</td>\n",
       "      <td>141H22A</td>\n",
       "      <td>4</td>\n",
       "      <td>IM</td>\n",
       "      <td>LA</td>\n",
       "      <td>COVID19 (COVID19 (MODERNA BIVALENT))</td>\n",
       "    </tr>\n",
       "    <tr>\n",
       "      <th>3</th>\n",
       "      <td>2547733</td>\n",
       "      <td>COVID19</td>\n",
       "      <td>MODERNA</td>\n",
       "      <td>042h22a</td>\n",
       "      <td>1</td>\n",
       "      <td>IM</td>\n",
       "      <td>LA</td>\n",
       "      <td>COVID19 (COVID19 (MODERNA))</td>\n",
       "    </tr>\n",
       "    <tr>\n",
       "      <th>4</th>\n",
       "      <td>2547734</td>\n",
       "      <td>TDAP</td>\n",
       "      <td>GLAXOSMITHKLINE BIOLOGICALS</td>\n",
       "      <td>KP547</td>\n",
       "      <td>1</td>\n",
       "      <td>IM</td>\n",
       "      <td>LA</td>\n",
       "      <td>TDAP (BOOSTRIX)</td>\n",
       "    </tr>\n",
       "  </tbody>\n",
       "</table>\n",
       "</div>"
      ],
      "text/plain": [
       "   VAERS_ID   VAX_TYPE                     VAX_MANU  VAX_LOT VAX_DOSE_SERIES  \\\n",
       "0   2547730    COVID19                      JANSSEN  1808982             UNK   \n",
       "1   2547731    COVID19              PFIZER\\BIONTECH   GK1657               3   \n",
       "2   2547732  COVID19-2                      MODERNA  141H22A               4   \n",
       "3   2547733    COVID19                      MODERNA  042h22a               1   \n",
       "4   2547734       TDAP  GLAXOSMITHKLINE BIOLOGICALS    KP547               1   \n",
       "\n",
       "  VAX_ROUTE VAX_SITE                              VAX_NAME  \n",
       "0       SYR       AR           COVID19 (COVID19 (JANSSEN))  \n",
       "1        IM       LA   COVID19 (COVID19 (PFIZER-BIONTECH))  \n",
       "2        IM       LA  COVID19 (COVID19 (MODERNA BIVALENT))  \n",
       "3        IM       LA           COVID19 (COVID19 (MODERNA))  \n",
       "4        IM       LA                       TDAP (BOOSTRIX)  "
      ]
     },
     "execution_count": 17,
     "metadata": {},
     "output_type": "execute_result"
    }
   ],
   "source": [
    "df_vax = pd.read_csv('./2023VAERSData/2023VAERSVAX.csv', encoding='latin-1')\n",
    "df_vax.head()"
   ]
  },
  {
   "cell_type": "markdown",
   "metadata": {},
   "source": [
    "## Process Data\n",
    "#### a. Select a vaccine type based on VAERS Vaccine table. For example, COVID19, FLU3, or TDAP.\n",
    "#### b. Based on the VAERS_ID, get around 10,000 reports related to the vaccine you selected from the column SYMPTOM_TEXT in the VAERS DATA table."
   ]
  },
  {
   "cell_type": "code",
   "execution_count": 18,
   "metadata": {},
   "outputs": [
    {
     "data": {
      "text/plain": [
       "(array([2547730, 2547731, 2547733, 2547739, 2547741, 2547744, 2547745,\n",
       "        2547746, 2547747, 2547749], dtype=int64),\n",
       " 40186)"
      ]
     },
     "execution_count": 18,
     "metadata": {},
     "output_type": "execute_result"
    }
   ],
   "source": [
    "df_covid19 = df_vax[df_vax['VAX_TYPE'] == 'COVID19']\n",
    "vaers_ids_covid19 = df_covid19['VAERS_ID'].unique()\n",
    "vaers_ids_covid19[:10], len(vaers_ids_covid19)"
   ]
  },
  {
   "cell_type": "code",
   "execution_count": 19,
   "metadata": {},
   "outputs": [],
   "source": [
    "df_covid19_reports = df_vaers_data[df_vaers_data['VAERS_ID'].isin(vaers_ids_covid19)]\n",
    "df_covid19_symptoms = df_covid19_reports[['VAERS_ID', 'SYMPTOM_TEXT']].head(10000)\n",
    "df_covid19_symptoms.head(), len(df_covid19_symptoms)\n",
    "df_input = df_covid19_symptoms\n",
    "df_input = df_input.dropna()"
   ]
  },
  {
   "cell_type": "code",
   "execution_count": 20,
   "metadata": {},
   "outputs": [
    {
     "name": "stdout",
     "output_type": "stream",
     "text": [
      "<class 'pandas.core.frame.DataFrame'>\n",
      "Int64Index: 9996 entries, 0 to 21539\n",
      "Data columns (total 2 columns):\n",
      " #   Column        Non-Null Count  Dtype \n",
      "---  ------        --------------  ----- \n",
      " 0   VAERS_ID      9996 non-null   int64 \n",
      " 1   SYMPTOM_TEXT  9996 non-null   object\n",
      "dtypes: int64(1), object(1)\n",
      "memory usage: 234.3+ KB\n"
     ]
    }
   ],
   "source": [
    "df_input.info()"
   ]
  },
  {
   "cell_type": "markdown",
   "metadata": {},
   "source": [
    "#### c. Perform some statistical analysis of your data. For example, you can get the distribution of the number of different symptoms related that vaccine type. You can also get the distribution of the length of different reports."
   ]
  },
  {
   "cell_type": "code",
   "execution_count": 21,
   "metadata": {},
   "outputs": [
    {
     "data": {
      "image/png": "[encoded data removed]",
      "text/plain": [
       "<Figure size 720x432 with 1 Axes>"
      ]
     },
     "metadata": {
      "needs_background": "light"
     },
     "output_type": "display_data"
    },
    {
     "data": {
      "text/plain": [
       "count    10000.000000\n",
       "mean      1042.349700\n",
       "std       1430.146538\n",
       "min          2.000000\n",
       "25%        113.000000\n",
       "50%        439.000000\n",
       "75%       1677.000000\n",
       "max      21985.000000\n",
       "Name: REPORT_LENGTH, dtype: float64"
      ]
     },
     "execution_count": 21,
     "metadata": {},
     "output_type": "execute_result"
    }
   ],
   "source": [
    "df_covid19_symptoms['SYMPTOM_TEXT'] = df_covid19_symptoms['SYMPTOM_TEXT'].astype(str)\n",
    "df_covid19_symptoms['REPORT_LENGTH'] = df_covid19_symptoms['SYMPTOM_TEXT'].apply(len)\n",
    "\n",
    "plt.figure(figsize=(10, 6))\n",
    "plt.hist(df_covid19_symptoms['REPORT_LENGTH'], bins=50, color='blue', edgecolor='black')\n",
    "plt.title('Distribution of COVID-19 Vaccine Symptom Report Lengths')\n",
    "plt.xlabel('Length of Report')\n",
    "plt.ylabel('Frequency')\n",
    "plt.grid(True)\n",
    "plt.show()\n",
    "\n",
    "report_length_stats = df_covid19_symptoms['REPORT_LENGTH'].describe()\n",
    "report_length_stats"
   ]
  },
  {
   "cell_type": "markdown",
   "metadata": {},
   "source": [
    "#### d. For the reports you selected in 2.b, build the corresponding standard symptom list with the symptoms in VAERS Symptoms table. Further, please find the most common symptoms (e.g., the most frequent 100 symptoms.)"
   ]
  },
  {
   "cell_type": "code",
   "execution_count": 22,
   "metadata": {},
   "outputs": [
    {
     "data": {
      "text/plain": [
       "25.1                        43470\n",
       "COVID-19                     2847\n",
       "No adverse event             1995\n",
       "SARS-CoV-2 test positive     1589\n",
       "Product storage error        1211\n",
       "                            ...  \n",
       "Syncope                        70\n",
       "Anxiety                        70\n",
       "Back pain                      69\n",
       "Abdominal pain                 69\n",
       "Laboratory test abnormal       68\n",
       "Length: 100, dtype: int64"
      ]
     },
     "execution_count": 22,
     "metadata": {},
     "output_type": "execute_result"
    }
   ],
   "source": [
    "df_covid19_symptoms_full = pd.merge(df_covid19_symptoms[['VAERS_ID']], df_sympt, on='VAERS_ID', how='inner')\n",
    "symptom_columns = [col for col in df_sympt.columns if 'SYMPTOM' in col]\n",
    "df_covid19_symptoms_full['SYMPTOMS_LIST'] = df_covid19_symptoms_full[symptom_columns].values.tolist()\n",
    "all_symptoms = [symptom for sublist in df_covid19_symptoms_full['SYMPTOMS_LIST'].tolist() for symptom in sublist if pd.notnull(symptom)]\n",
    "symptom_counts = pd.Series(all_symptoms).value_counts()\n",
    "\n",
    "top_100_symptoms = symptom_counts.head(100)\n",
    "top_100_symptoms"
   ]
  },
  {
   "cell_type": "markdown",
   "metadata": {},
   "source": [
    "This most common symptom '25.1' doesn't seems like an actual symtom. Let's remove it so that `COVID-19` and `No adverse event` as two most common symptom looks more realistic."
   ]
  },
  {
   "cell_type": "code",
   "execution_count": 23,
   "metadata": {},
   "outputs": [
    {
     "data": {
      "text/plain": [
       "COVID-19                        2847\n",
       "No adverse event                1995\n",
       "SARS-CoV-2 test positive        1589\n",
       "Product storage error           1211\n",
       "Expired product administered    1097\n",
       "                                ... \n",
       "Anxiety                           70\n",
       "Back pain                         69\n",
       "Abdominal pain                    69\n",
       "Laboratory test abnormal          68\n",
       "Muscular weakness                 68\n",
       "Length: 100, dtype: int64"
      ]
     },
     "execution_count": 23,
     "metadata": {},
     "output_type": "execute_result"
    }
   ],
   "source": [
    "symptom_counts.index = symptom_counts.index.map(str)\n",
    "symptom_counts_cleaned = symptom_counts.drop(labels=[\"25.1\"])\n",
    "top_100_symptoms_cleaned = symptom_counts_cleaned.head(100)\n",
    "top_100_symptoms_cleaned"
   ]
  },
  {
   "cell_type": "markdown",
   "metadata": {},
   "source": [
    "## STEP 1: Extracting Symptom-related Entities:\n",
    "### Task:\n",
    "- Input: Description of vaccine adverse events (i.e., SYMPTOM TEXT in VAERS DATA table).\n",
    "- Output: A list of symptom related entities.\n",
    "- Evaluation: There is no ground truth annotation for the data. You need to manually check 20+ reports to see if there are entities that are missed by the model or package."
   ]
  },
  {
   "cell_type": "code",
   "execution_count": 24,
   "metadata": {},
   "outputs": [
    {
     "data": {
      "application/vnd.jupyter.widget-view+json": {
       "model_id": "aedc5ee3a0c746a3b7ff35d4213271dd",
       "version_major": 2,
       "version_minor": 0
      },
      "text/plain": [
       "Downloading https://raw.githubusercontent.com/stanfordnlp/stanza-resources/main/resources_1.6.0.json:   0%|   …"
      ]
     },
     "metadata": {},
     "output_type": "display_data"
    },
    {
     "name": "stderr",
     "output_type": "stream",
     "text": [
      "2023-11-28 15:36:08 INFO: Downloading these customized packages for language: en (English)...\n",
      "====================================\n",
      "| Processor       | Package        |\n",
      "------------------------------------\n",
      "| tokenize        | mimic          |\n",
      "| pos             | mimic_charlm   |\n",
      "| lemma           | mimic_nocharlm |\n",
      "| depparse        | mimic_charlm   |\n",
      "| ner             | i2b2           |\n",
      "| forward_charlm  | mimic          |\n",
      "| pretrain        | mimic          |\n",
      "| backward_charlm | mimic          |\n",
      "====================================\n",
      "\n",
      "2023-11-28 15:36:08 INFO: File exists: C:\\Users\\60356\\stanza_resources\\en\\tokenize\\mimic.pt\n",
      "2023-11-28 15:36:08 INFO: File exists: C:\\Users\\60356\\stanza_resources\\en\\pos\\mimic_charlm.pt\n",
      "2023-11-28 15:36:08 INFO: File exists: C:\\Users\\60356\\stanza_resources\\en\\lemma\\mimic_nocharlm.pt\n",
      "2023-11-28 15:36:09 INFO: File exists: C:\\Users\\60356\\stanza_resources\\en\\depparse\\mimic_charlm.pt\n",
      "2023-11-28 15:36:09 INFO: File exists: C:\\Users\\60356\\stanza_resources\\en\\ner\\i2b2.pt\n",
      "2023-11-28 15:36:09 INFO: File exists: C:\\Users\\60356\\stanza_resources\\en\\forward_charlm\\mimic.pt\n",
      "2023-11-28 15:36:09 INFO: File exists: C:\\Users\\60356\\stanza_resources\\en\\pretrain\\mimic.pt\n",
      "2023-11-28 15:36:09 INFO: File exists: C:\\Users\\60356\\stanza_resources\\en\\backward_charlm\\mimic.pt\n",
      "2023-11-28 15:36:09 INFO: Finished downloading models and saved to C:\\Users\\60356\\stanza_resources.\n",
      "2023-11-28 15:36:09 INFO: Checking for updates to resources.json in case models have been updated.  Note: this behavior can be turned off with download_method=None or download_method=DownloadMethod.REUSE_RESOURCES\n"
     ]
    },
    {
     "data": {
      "application/vnd.jupyter.widget-view+json": {
       "model_id": "07fbc55bb0a4415bb35ae71ed67311a2",
       "version_major": 2,
       "version_minor": 0
      },
      "text/plain": [
       "Downloading https://raw.githubusercontent.com/stanfordnlp/stanza-resources/main/resources_1.6.0.json:   0%|   …"
      ]
     },
     "metadata": {},
     "output_type": "display_data"
    },
    {
     "name": "stderr",
     "output_type": "stream",
     "text": [
      "2023-11-28 15:36:10 INFO: Loading these models for language: en (English):\n",
      "==============================\n",
      "| Processor | Package        |\n",
      "------------------------------\n",
      "| tokenize  | mimic          |\n",
      "| pos       | mimic_charlm   |\n",
      "| lemma     | mimic_nocharlm |\n",
      "| depparse  | mimic_charlm   |\n",
      "| ner       | i2b2           |\n",
      "==============================\n",
      "\n",
      "2023-11-28 15:36:10 INFO: Using device: cpu\n",
      "2023-11-28 15:36:10 INFO: Loading: tokenize\n",
      "2023-11-28 15:36:10 INFO: Loading: pos\n",
      "2023-11-28 15:36:10 INFO: Loading: lemma\n",
      "2023-11-28 15:36:10 INFO: Loading: depparse\n",
      "2023-11-28 15:36:10 INFO: Loading: ner\n",
      "2023-11-28 15:36:10 INFO: Done loading processors!\n"
     ]
    }
   ],
   "source": [
    "stanza.download('en', package='mimic', processors={'ner': 'i2b2'})\n",
    "nlp = stanza.Pipeline(lang='en', package='mimic', processors={'ner': 'i2b2'})"
   ]
  },
  {
   "cell_type": "code",
   "execution_count": 25,
   "metadata": {},
   "outputs": [
    {
     "data": {
      "application/vnd.jupyter.widget-view+json": {
       "model_id": "1e906e5f4e26490e85d3436def8385ce",
       "version_major": 2,
       "version_minor": 0
      },
      "text/plain": [
       "  0%|          | 0/10000 [00:00<?, ?it/s]"
      ]
     },
     "metadata": {},
     "output_type": "display_data"
    },
    {
     "ename": "KeyboardInterrupt",
     "evalue": "",
     "output_type": "error",
     "traceback": [
      "\u001b[1;31m---------------------------------------------------------------------------\u001b[0m",
      "\u001b[1;31mKeyboardInterrupt\u001b[0m                         Traceback (most recent call last)",
      "\u001b[1;32md:\\GitHub\\CS584-Final\\data_processing.ipynb Cell 18\u001b[0m line \u001b[0;36m<cell line: 10>\u001b[1;34m()\u001b[0m\n\u001b[0;32m      <a href='vscode-notebook-cell:/d%3A/GitHub/CS584-Final/data_processing.ipynb#X25sZmlsZQ%3D%3D?line=6'>7</a>\u001b[0m     \u001b[39mreturn\u001b[39;00m symptoms\n\u001b[0;32m      <a href='vscode-notebook-cell:/d%3A/GitHub/CS584-Final/data_processing.ipynb#X25sZmlsZQ%3D%3D?line=8'>9</a>\u001b[0m \u001b[39m# Applying the function with tqdm progress bar\u001b[39;00m\n\u001b[1;32m---> <a href='vscode-notebook-cell:/d%3A/GitHub/CS584-Final/data_processing.ipynb#X25sZmlsZQ%3D%3D?line=9'>10</a>\u001b[0m df_covid19_symptoms[\u001b[39m'\u001b[39m\u001b[39mEXTRACTED_SYMPTOMS\u001b[39m\u001b[39m'\u001b[39m] \u001b[39m=\u001b[39m [extract_symptoms(text) \u001b[39mfor\u001b[39;00m text \u001b[39min\u001b[39;00m tqdm(df_covid19_symptoms[\u001b[39m'\u001b[39m\u001b[39mSYMPTOM_TEXT\u001b[39m\u001b[39m'\u001b[39m])]\n",
      "\u001b[1;32md:\\GitHub\\CS584-Final\\data_processing.ipynb Cell 18\u001b[0m line \u001b[0;36m<listcomp>\u001b[1;34m(.0)\u001b[0m\n\u001b[0;32m      <a href='vscode-notebook-cell:/d%3A/GitHub/CS584-Final/data_processing.ipynb#X25sZmlsZQ%3D%3D?line=6'>7</a>\u001b[0m     \u001b[39mreturn\u001b[39;00m symptoms\n\u001b[0;32m      <a href='vscode-notebook-cell:/d%3A/GitHub/CS584-Final/data_processing.ipynb#X25sZmlsZQ%3D%3D?line=8'>9</a>\u001b[0m \u001b[39m# Applying the function with tqdm progress bar\u001b[39;00m\n\u001b[1;32m---> <a href='vscode-notebook-cell:/d%3A/GitHub/CS584-Final/data_processing.ipynb#X25sZmlsZQ%3D%3D?line=9'>10</a>\u001b[0m df_covid19_symptoms[\u001b[39m'\u001b[39m\u001b[39mEXTRACTED_SYMPTOMS\u001b[39m\u001b[39m'\u001b[39m] \u001b[39m=\u001b[39m [extract_symptoms(text) \u001b[39mfor\u001b[39;00m text \u001b[39min\u001b[39;00m tqdm(df_covid19_symptoms[\u001b[39m'\u001b[39m\u001b[39mSYMPTOM_TEXT\u001b[39m\u001b[39m'\u001b[39m])]\n",
      "\u001b[1;32md:\\GitHub\\CS584-Final\\data_processing.ipynb Cell 18\u001b[0m line \u001b[0;36mextract_symptoms\u001b[1;34m(text)\u001b[0m\n\u001b[0;32m      <a href='vscode-notebook-cell:/d%3A/GitHub/CS584-Final/data_processing.ipynb#X25sZmlsZQ%3D%3D?line=0'>1</a>\u001b[0m \u001b[39mdef\u001b[39;00m \u001b[39mextract_symptoms\u001b[39m(text):\n\u001b[1;32m----> <a href='vscode-notebook-cell:/d%3A/GitHub/CS584-Final/data_processing.ipynb#X25sZmlsZQ%3D%3D?line=1'>2</a>\u001b[0m     doc \u001b[39m=\u001b[39m nlp(text)\n\u001b[0;32m      <a href='vscode-notebook-cell:/d%3A/GitHub/CS584-Final/data_processing.ipynb#X25sZmlsZQ%3D%3D?line=2'>3</a>\u001b[0m     symptoms \u001b[39m=\u001b[39m []\n\u001b[0;32m      <a href='vscode-notebook-cell:/d%3A/GitHub/CS584-Final/data_processing.ipynb#X25sZmlsZQ%3D%3D?line=3'>4</a>\u001b[0m     \u001b[39mfor\u001b[39;00m ent \u001b[39min\u001b[39;00m doc\u001b[39m.\u001b[39ments:\n",
      "File \u001b[1;32md:\\anaconda3\\lib\\site-packages\\stanza\\pipeline\\core.py:471\u001b[0m, in \u001b[0;36mPipeline.__call__\u001b[1;34m(self, doc, processors)\u001b[0m\n\u001b[0;32m    470\u001b[0m \u001b[39mdef\u001b[39;00m \u001b[39m__call__\u001b[39m(\u001b[39mself\u001b[39m, doc, processors\u001b[39m=\u001b[39m\u001b[39mNone\u001b[39;00m):\n\u001b[1;32m--> 471\u001b[0m     \u001b[39mreturn\u001b[39;00m \u001b[39mself\u001b[39;49m\u001b[39m.\u001b[39;49mprocess(doc, processors)\n",
      "File \u001b[1;32md:\\anaconda3\\lib\\site-packages\\stanza\\pipeline\\core.py:422\u001b[0m, in \u001b[0;36mPipeline.process\u001b[1;34m(self, doc, processors)\u001b[0m\n\u001b[0;32m    420\u001b[0m     \u001b[39mif\u001b[39;00m \u001b[39mself\u001b[39m\u001b[39m.\u001b[39mprocessors\u001b[39m.\u001b[39mget(processor_name):\n\u001b[0;32m    421\u001b[0m         process \u001b[39m=\u001b[39m \u001b[39mself\u001b[39m\u001b[39m.\u001b[39mprocessors[processor_name]\u001b[39m.\u001b[39mbulk_process \u001b[39mif\u001b[39;00m bulk \u001b[39melse\u001b[39;00m \u001b[39mself\u001b[39m\u001b[39m.\u001b[39mprocessors[processor_name]\u001b[39m.\u001b[39mprocess\n\u001b[1;32m--> 422\u001b[0m         doc \u001b[39m=\u001b[39m process(doc)\n\u001b[0;32m    423\u001b[0m \u001b[39mreturn\u001b[39;00m doc\n",
      "File \u001b[1;32md:\\anaconda3\\lib\\site-packages\\stanza\\pipeline\\pos_processor.py:81\u001b[0m, in \u001b[0;36mPOSProcessor.process\u001b[1;34m(self, document)\u001b[0m\n\u001b[0;32m     79\u001b[0m     \u001b[39melse\u001b[39;00m:\n\u001b[0;32m     80\u001b[0m         \u001b[39mfor\u001b[39;00m i, b \u001b[39min\u001b[39;00m \u001b[39menumerate\u001b[39m(batch):\n\u001b[1;32m---> 81\u001b[0m             preds \u001b[39m+\u001b[39m\u001b[39m=\u001b[39m \u001b[39mself\u001b[39;49m\u001b[39m.\u001b[39;49mtrainer\u001b[39m.\u001b[39;49mpredict(b)\n\u001b[0;32m     83\u001b[0m preds \u001b[39m=\u001b[39m unsort(preds, batch\u001b[39m.\u001b[39mdata_orig_idx)\n\u001b[0;32m     84\u001b[0m batch\u001b[39m.\u001b[39mdoc\u001b[39m.\u001b[39mset([doc\u001b[39m.\u001b[39mUPOS, doc\u001b[39m.\u001b[39mXPOS, doc\u001b[39m.\u001b[39mFEATS], [y \u001b[39mfor\u001b[39;00m x \u001b[39min\u001b[39;00m preds \u001b[39mfor\u001b[39;00m y \u001b[39min\u001b[39;00m x])\n",
      "File \u001b[1;32md:\\anaconda3\\lib\\site-packages\\stanza\\models\\pos\\trainer.py:69\u001b[0m, in \u001b[0;36mTrainer.predict\u001b[1;34m(self, batch, unsort)\u001b[0m\n\u001b[0;32m     67\u001b[0m \u001b[39mself\u001b[39m\u001b[39m.\u001b[39mmodel\u001b[39m.\u001b[39meval()\n\u001b[0;32m     68\u001b[0m batch_size \u001b[39m=\u001b[39m word\u001b[39m.\u001b[39msize(\u001b[39m0\u001b[39m)\n\u001b[1;32m---> 69\u001b[0m _, preds \u001b[39m=\u001b[39m \u001b[39mself\u001b[39;49m\u001b[39m.\u001b[39;49mmodel(word, word_mask, wordchars, wordchars_mask, upos, xpos, ufeats, pretrained, word_orig_idx, sentlens, wordlens, text)\n\u001b[0;32m     70\u001b[0m upos_seqs \u001b[39m=\u001b[39m [\u001b[39mself\u001b[39m\u001b[39m.\u001b[39mvocab[\u001b[39m'\u001b[39m\u001b[39mupos\u001b[39m\u001b[39m'\u001b[39m]\u001b[39m.\u001b[39munmap(sent) \u001b[39mfor\u001b[39;00m sent \u001b[39min\u001b[39;00m preds[\u001b[39m0\u001b[39m]\u001b[39m.\u001b[39mtolist()]\n\u001b[0;32m     71\u001b[0m xpos_seqs \u001b[39m=\u001b[39m [\u001b[39mself\u001b[39m\u001b[39m.\u001b[39mvocab[\u001b[39m'\u001b[39m\u001b[39mxpos\u001b[39m\u001b[39m'\u001b[39m]\u001b[39m.\u001b[39munmap(sent) \u001b[39mfor\u001b[39;00m sent \u001b[39min\u001b[39;00m preds[\u001b[39m1\u001b[39m]\u001b[39m.\u001b[39mtolist()]\n",
      "File \u001b[1;32md:\\anaconda3\\lib\\site-packages\\torch\\nn\\modules\\module.py:1518\u001b[0m, in \u001b[0;36mModule._wrapped_call_impl\u001b[1;34m(self, *args, **kwargs)\u001b[0m\n\u001b[0;32m   1516\u001b[0m     \u001b[39mreturn\u001b[39;00m \u001b[39mself\u001b[39m\u001b[39m.\u001b[39m_compiled_call_impl(\u001b[39m*\u001b[39margs, \u001b[39m*\u001b[39m\u001b[39m*\u001b[39mkwargs)  \u001b[39m# type: ignore[misc]\u001b[39;00m\n\u001b[0;32m   1517\u001b[0m \u001b[39melse\u001b[39;00m:\n\u001b[1;32m-> 1518\u001b[0m     \u001b[39mreturn\u001b[39;00m \u001b[39mself\u001b[39m\u001b[39m.\u001b[39m_call_impl(\u001b[39m*\u001b[39margs, \u001b[39m*\u001b[39m\u001b[39m*\u001b[39mkwargs)\n",
      "File \u001b[1;32md:\\anaconda3\\lib\\site-packages\\torch\\nn\\modules\\module.py:1527\u001b[0m, in \u001b[0;36mModule._call_impl\u001b[1;34m(self, *args, **kwargs)\u001b[0m\n\u001b[0;32m   1522\u001b[0m \u001b[39m# If we don't have any hooks, we want to skip the rest of the logic in\u001b[39;00m\n\u001b[0;32m   1523\u001b[0m \u001b[39m# this function, and just call forward.\u001b[39;00m\n\u001b[0;32m   1524\u001b[0m \u001b[39mif\u001b[39;00m \u001b[39mnot\u001b[39;00m (\u001b[39mself\u001b[39m\u001b[39m.\u001b[39m_backward_hooks \u001b[39mor\u001b[39;00m \u001b[39mself\u001b[39m\u001b[39m.\u001b[39m_backward_pre_hooks \u001b[39mor\u001b[39;00m \u001b[39mself\u001b[39m\u001b[39m.\u001b[39m_forward_hooks \u001b[39mor\u001b[39;00m \u001b[39mself\u001b[39m\u001b[39m.\u001b[39m_forward_pre_hooks\n\u001b[0;32m   1525\u001b[0m         \u001b[39mor\u001b[39;00m _global_backward_pre_hooks \u001b[39mor\u001b[39;00m _global_backward_hooks\n\u001b[0;32m   1526\u001b[0m         \u001b[39mor\u001b[39;00m _global_forward_hooks \u001b[39mor\u001b[39;00m _global_forward_pre_hooks):\n\u001b[1;32m-> 1527\u001b[0m     \u001b[39mreturn\u001b[39;00m forward_call(\u001b[39m*\u001b[39margs, \u001b[39m*\u001b[39m\u001b[39m*\u001b[39mkwargs)\n\u001b[0;32m   1529\u001b[0m \u001b[39mtry\u001b[39;00m:\n\u001b[0;32m   1530\u001b[0m     result \u001b[39m=\u001b[39m \u001b[39mNone\u001b[39;00m\n",
      "File \u001b[1;32md:\\anaconda3\\lib\\site-packages\\stanza\\models\\pos\\model.py:181\u001b[0m, in \u001b[0;36mTagger.forward\u001b[1;34m(self, word, word_mask, wordchars, wordchars_mask, upos, xpos, ufeats, pretrained, word_orig_idx, sentlens, wordlens, text)\u001b[0m\n\u001b[0;32m    178\u001b[0m     all_forward_chars \u001b[39m=\u001b[39m [\u001b[39mself\u001b[39m\u001b[39m.\u001b[39mcharmodel_forward_transform(x) \u001b[39mfor\u001b[39;00m x \u001b[39min\u001b[39;00m all_forward_chars]\n\u001b[0;32m    179\u001b[0m all_forward_chars \u001b[39m=\u001b[39m pack(pad_sequence(all_forward_chars, batch_first\u001b[39m=\u001b[39m\u001b[39mTrue\u001b[39;00m))\n\u001b[1;32m--> 181\u001b[0m all_backward_chars \u001b[39m=\u001b[39m \u001b[39mself\u001b[39;49m\u001b[39m.\u001b[39;49mcharmodel_backward\u001b[39m.\u001b[39;49mbuild_char_representation(text)\n\u001b[0;32m    182\u001b[0m \u001b[39mif\u001b[39;00m \u001b[39mself\u001b[39m\u001b[39m.\u001b[39mcharmodel_backward_transform \u001b[39mis\u001b[39;00m \u001b[39mnot\u001b[39;00m \u001b[39mNone\u001b[39;00m:\n\u001b[0;32m    183\u001b[0m     all_backward_chars \u001b[39m=\u001b[39m [\u001b[39mself\u001b[39m\u001b[39m.\u001b[39mcharmodel_backward_transform(x) \u001b[39mfor\u001b[39;00m x \u001b[39min\u001b[39;00m all_backward_chars]\n",
      "File \u001b[1;32md:\\anaconda3\\lib\\site-packages\\stanza\\models\\common\\char_model.py:213\u001b[0m, in \u001b[0;36mCharacterLanguageModel.build_char_representation\u001b[1;34m(self, sentences)\u001b[0m\n\u001b[0;32m    210\u001b[0m chars \u001b[39m=\u001b[39m get_long_tensor(chars, \u001b[39mlen\u001b[39m(all_data), pad_id\u001b[39m=\u001b[39mvocab\u001b[39m.\u001b[39munit2id(CHARLM_END))\u001b[39m.\u001b[39mto(device\u001b[39m=\u001b[39mdevice)\n\u001b[0;32m    212\u001b[0m \u001b[39mwith\u001b[39;00m torch\u001b[39m.\u001b[39mno_grad():\n\u001b[1;32m--> 213\u001b[0m     output, _, _ \u001b[39m=\u001b[39m \u001b[39mself\u001b[39;49m\u001b[39m.\u001b[39;49mforward(chars, char_lens)\n\u001b[0;32m    214\u001b[0m     res \u001b[39m=\u001b[39m [output[i, offsets] \u001b[39mfor\u001b[39;00m i, offsets \u001b[39min\u001b[39;00m \u001b[39menumerate\u001b[39m(char_offsets)]\n\u001b[0;32m    215\u001b[0m     res \u001b[39m=\u001b[39m unsort(res, orig_idx)\n",
      "File \u001b[1;32md:\\anaconda3\\lib\\site-packages\\stanza\\models\\common\\char_model.py:153\u001b[0m, in \u001b[0;36mCharacterLanguageModel.forward\u001b[1;34m(self, chars, charlens, hidden)\u001b[0m\n\u001b[0;32m    150\u001b[0m \u001b[39mif\u001b[39;00m hidden \u001b[39mis\u001b[39;00m \u001b[39mNone\u001b[39;00m: \n\u001b[0;32m    151\u001b[0m     hidden \u001b[39m=\u001b[39m (\u001b[39mself\u001b[39m\u001b[39m.\u001b[39mcharlstm_h_init\u001b[39m.\u001b[39mexpand(\u001b[39mself\u001b[39m\u001b[39m.\u001b[39margs[\u001b[39m'\u001b[39m\u001b[39mchar_num_layers\u001b[39m\u001b[39m'\u001b[39m], batch_size, \u001b[39mself\u001b[39m\u001b[39m.\u001b[39margs[\u001b[39m'\u001b[39m\u001b[39mchar_hidden_dim\u001b[39m\u001b[39m'\u001b[39m])\u001b[39m.\u001b[39mcontiguous(),\n\u001b[0;32m    152\u001b[0m               \u001b[39mself\u001b[39m\u001b[39m.\u001b[39mcharlstm_c_init\u001b[39m.\u001b[39mexpand(\u001b[39mself\u001b[39m\u001b[39m.\u001b[39margs[\u001b[39m'\u001b[39m\u001b[39mchar_num_layers\u001b[39m\u001b[39m'\u001b[39m], batch_size, \u001b[39mself\u001b[39m\u001b[39m.\u001b[39margs[\u001b[39m'\u001b[39m\u001b[39mchar_hidden_dim\u001b[39m\u001b[39m'\u001b[39m])\u001b[39m.\u001b[39mcontiguous())\n\u001b[1;32m--> 153\u001b[0m output, hidden \u001b[39m=\u001b[39m \u001b[39mself\u001b[39;49m\u001b[39m.\u001b[39;49mcharlstm(embs, charlens, hx\u001b[39m=\u001b[39;49mhidden)\n\u001b[0;32m    154\u001b[0m output \u001b[39m=\u001b[39m \u001b[39mself\u001b[39m\u001b[39m.\u001b[39mdropout(pad_packed_sequence(output, batch_first\u001b[39m=\u001b[39m\u001b[39mTrue\u001b[39;00m)[\u001b[39m0\u001b[39m])\n\u001b[0;32m    155\u001b[0m decoded \u001b[39m=\u001b[39m \u001b[39mself\u001b[39m\u001b[39m.\u001b[39mdecoder(output)\n",
      "File \u001b[1;32md:\\anaconda3\\lib\\site-packages\\torch\\nn\\modules\\module.py:1518\u001b[0m, in \u001b[0;36mModule._wrapped_call_impl\u001b[1;34m(self, *args, **kwargs)\u001b[0m\n\u001b[0;32m   1516\u001b[0m     \u001b[39mreturn\u001b[39;00m \u001b[39mself\u001b[39m\u001b[39m.\u001b[39m_compiled_call_impl(\u001b[39m*\u001b[39margs, \u001b[39m*\u001b[39m\u001b[39m*\u001b[39mkwargs)  \u001b[39m# type: ignore[misc]\u001b[39;00m\n\u001b[0;32m   1517\u001b[0m \u001b[39melse\u001b[39;00m:\n\u001b[1;32m-> 1518\u001b[0m     \u001b[39mreturn\u001b[39;00m \u001b[39mself\u001b[39m\u001b[39m.\u001b[39m_call_impl(\u001b[39m*\u001b[39margs, \u001b[39m*\u001b[39m\u001b[39m*\u001b[39mkwargs)\n",
      "File \u001b[1;32md:\\anaconda3\\lib\\site-packages\\torch\\nn\\modules\\module.py:1527\u001b[0m, in \u001b[0;36mModule._call_impl\u001b[1;34m(self, *args, **kwargs)\u001b[0m\n\u001b[0;32m   1522\u001b[0m \u001b[39m# If we don't have any hooks, we want to skip the rest of the logic in\u001b[39;00m\n\u001b[0;32m   1523\u001b[0m \u001b[39m# this function, and just call forward.\u001b[39;00m\n\u001b[0;32m   1524\u001b[0m \u001b[39mif\u001b[39;00m \u001b[39mnot\u001b[39;00m (\u001b[39mself\u001b[39m\u001b[39m.\u001b[39m_backward_hooks \u001b[39mor\u001b[39;00m \u001b[39mself\u001b[39m\u001b[39m.\u001b[39m_backward_pre_hooks \u001b[39mor\u001b[39;00m \u001b[39mself\u001b[39m\u001b[39m.\u001b[39m_forward_hooks \u001b[39mor\u001b[39;00m \u001b[39mself\u001b[39m\u001b[39m.\u001b[39m_forward_pre_hooks\n\u001b[0;32m   1525\u001b[0m         \u001b[39mor\u001b[39;00m _global_backward_pre_hooks \u001b[39mor\u001b[39;00m _global_backward_hooks\n\u001b[0;32m   1526\u001b[0m         \u001b[39mor\u001b[39;00m _global_forward_hooks \u001b[39mor\u001b[39;00m _global_forward_pre_hooks):\n\u001b[1;32m-> 1527\u001b[0m     \u001b[39mreturn\u001b[39;00m forward_call(\u001b[39m*\u001b[39margs, \u001b[39m*\u001b[39m\u001b[39m*\u001b[39mkwargs)\n\u001b[0;32m   1529\u001b[0m \u001b[39mtry\u001b[39;00m:\n\u001b[0;32m   1530\u001b[0m     result \u001b[39m=\u001b[39m \u001b[39mNone\u001b[39;00m\n",
      "File \u001b[1;32md:\\anaconda3\\lib\\site-packages\\stanza\\models\\common\\packed_lstm.py:22\u001b[0m, in \u001b[0;36mPackedLSTM.forward\u001b[1;34m(self, input, lengths, hx)\u001b[0m\n\u001b[0;32m     19\u001b[0m \u001b[39mif\u001b[39;00m \u001b[39mnot\u001b[39;00m \u001b[39misinstance\u001b[39m(\u001b[39minput\u001b[39m, PackedSequence):\n\u001b[0;32m     20\u001b[0m     \u001b[39minput\u001b[39m \u001b[39m=\u001b[39m pack_padded_sequence(\u001b[39minput\u001b[39m, lengths, batch_first\u001b[39m=\u001b[39m\u001b[39mself\u001b[39m\u001b[39m.\u001b[39mbatch_first)\n\u001b[1;32m---> 22\u001b[0m res \u001b[39m=\u001b[39m \u001b[39mself\u001b[39;49m\u001b[39m.\u001b[39;49mlstm(\u001b[39minput\u001b[39;49m, hx)\n\u001b[0;32m     23\u001b[0m \u001b[39mif\u001b[39;00m \u001b[39mself\u001b[39m\u001b[39m.\u001b[39mpad:\n\u001b[0;32m     24\u001b[0m     res \u001b[39m=\u001b[39m (pad_packed_sequence(res[\u001b[39m0\u001b[39m], batch_first\u001b[39m=\u001b[39m\u001b[39mself\u001b[39m\u001b[39m.\u001b[39mbatch_first)[\u001b[39m0\u001b[39m], res[\u001b[39m1\u001b[39m])\n",
      "File \u001b[1;32md:\\anaconda3\\lib\\site-packages\\torch\\nn\\modules\\module.py:1518\u001b[0m, in \u001b[0;36mModule._wrapped_call_impl\u001b[1;34m(self, *args, **kwargs)\u001b[0m\n\u001b[0;32m   1516\u001b[0m     \u001b[39mreturn\u001b[39;00m \u001b[39mself\u001b[39m\u001b[39m.\u001b[39m_compiled_call_impl(\u001b[39m*\u001b[39margs, \u001b[39m*\u001b[39m\u001b[39m*\u001b[39mkwargs)  \u001b[39m# type: ignore[misc]\u001b[39;00m\n\u001b[0;32m   1517\u001b[0m \u001b[39melse\u001b[39;00m:\n\u001b[1;32m-> 1518\u001b[0m     \u001b[39mreturn\u001b[39;00m \u001b[39mself\u001b[39m\u001b[39m.\u001b[39m_call_impl(\u001b[39m*\u001b[39margs, \u001b[39m*\u001b[39m\u001b[39m*\u001b[39mkwargs)\n",
      "File \u001b[1;32md:\\anaconda3\\lib\\site-packages\\torch\\nn\\modules\\module.py:1527\u001b[0m, in \u001b[0;36mModule._call_impl\u001b[1;34m(self, *args, **kwargs)\u001b[0m\n\u001b[0;32m   1522\u001b[0m \u001b[39m# If we don't have any hooks, we want to skip the rest of the logic in\u001b[39;00m\n\u001b[0;32m   1523\u001b[0m \u001b[39m# this function, and just call forward.\u001b[39;00m\n\u001b[0;32m   1524\u001b[0m \u001b[39mif\u001b[39;00m \u001b[39mnot\u001b[39;00m (\u001b[39mself\u001b[39m\u001b[39m.\u001b[39m_backward_hooks \u001b[39mor\u001b[39;00m \u001b[39mself\u001b[39m\u001b[39m.\u001b[39m_backward_pre_hooks \u001b[39mor\u001b[39;00m \u001b[39mself\u001b[39m\u001b[39m.\u001b[39m_forward_hooks \u001b[39mor\u001b[39;00m \u001b[39mself\u001b[39m\u001b[39m.\u001b[39m_forward_pre_hooks\n\u001b[0;32m   1525\u001b[0m         \u001b[39mor\u001b[39;00m _global_backward_pre_hooks \u001b[39mor\u001b[39;00m _global_backward_hooks\n\u001b[0;32m   1526\u001b[0m         \u001b[39mor\u001b[39;00m _global_forward_hooks \u001b[39mor\u001b[39;00m _global_forward_pre_hooks):\n\u001b[1;32m-> 1527\u001b[0m     \u001b[39mreturn\u001b[39;00m forward_call(\u001b[39m*\u001b[39margs, \u001b[39m*\u001b[39m\u001b[39m*\u001b[39mkwargs)\n\u001b[0;32m   1529\u001b[0m \u001b[39mtry\u001b[39;00m:\n\u001b[0;32m   1530\u001b[0m     result \u001b[39m=\u001b[39m \u001b[39mNone\u001b[39;00m\n",
      "File \u001b[1;32md:\\anaconda3\\lib\\site-packages\\torch\\nn\\modules\\rnn.py:882\u001b[0m, in \u001b[0;36mLSTM.forward\u001b[1;34m(self, input, hx)\u001b[0m\n\u001b[0;32m    879\u001b[0m     result \u001b[39m=\u001b[39m _VF\u001b[39m.\u001b[39mlstm(\u001b[39minput\u001b[39m, hx, \u001b[39mself\u001b[39m\u001b[39m.\u001b[39m_flat_weights, \u001b[39mself\u001b[39m\u001b[39m.\u001b[39mbias, \u001b[39mself\u001b[39m\u001b[39m.\u001b[39mnum_layers,\n\u001b[0;32m    880\u001b[0m                       \u001b[39mself\u001b[39m\u001b[39m.\u001b[39mdropout, \u001b[39mself\u001b[39m\u001b[39m.\u001b[39mtraining, \u001b[39mself\u001b[39m\u001b[39m.\u001b[39mbidirectional, \u001b[39mself\u001b[39m\u001b[39m.\u001b[39mbatch_first)\n\u001b[0;32m    881\u001b[0m \u001b[39melse\u001b[39;00m:\n\u001b[1;32m--> 882\u001b[0m     result \u001b[39m=\u001b[39m _VF\u001b[39m.\u001b[39;49mlstm(\u001b[39minput\u001b[39;49m, batch_sizes, hx, \u001b[39mself\u001b[39;49m\u001b[39m.\u001b[39;49m_flat_weights, \u001b[39mself\u001b[39;49m\u001b[39m.\u001b[39;49mbias,\n\u001b[0;32m    883\u001b[0m                       \u001b[39mself\u001b[39;49m\u001b[39m.\u001b[39;49mnum_layers, \u001b[39mself\u001b[39;49m\u001b[39m.\u001b[39;49mdropout, \u001b[39mself\u001b[39;49m\u001b[39m.\u001b[39;49mtraining, \u001b[39mself\u001b[39;49m\u001b[39m.\u001b[39;49mbidirectional)\n\u001b[0;32m    884\u001b[0m output \u001b[39m=\u001b[39m result[\u001b[39m0\u001b[39m]\n\u001b[0;32m    885\u001b[0m hidden \u001b[39m=\u001b[39m result[\u001b[39m1\u001b[39m:]\n",
      "\u001b[1;31mKeyboardInterrupt\u001b[0m: "
     ]
    }
   ],
   "source": [
    "def extract_symptoms(text):\n",
    "    doc = nlp(text)\n",
    "    symptoms = []\n",
    "    for ent in doc.ents:\n",
    "        if ent.type in ['PROBLEM', 'DISEASE']:\n",
    "            symptoms.append(ent.text)\n",
    "    return symptoms\n",
    "\n",
    "df_covid19_symptoms['EXTRACTED_SYMPTOMS'] = [extract_symptoms(text) for text in tqdm(df_covid19_symptoms['SYMPTOM_TEXT'])]"
   ]
  },
  {
   "cell_type": "code",
   "execution_count": null,
   "metadata": {},
   "outputs": [],
   "source": [
    "# Assuming df_covid19_symptoms has the 'EXTRACTED_SYMPTOMS' column after applying the function\n",
    "for index, row in df_covid19_symptoms.head(20).iterrows():\n",
    "    print(f\"Report {index + 1}\")\n",
    "    print(\"Input (SYMPTOM_TEXT):\", row['SYMPTOM_TEXT'])\n",
    "    print(\"Output (Extracted Symptoms):\", row['EXTRACTED_SYMPTOMS'])\n",
    "    print(\"-\" * 50)\n"
   ]
  },
  {
   "cell_type": "markdown",
   "metadata": {},
   "source": [
    "## STEP 2: Link Entities to Standard Symptoms\n",
    "### Task: For each extracted symptom entity, map it to the term in a standard symptom list.\n",
    "- Input: A symptom detected in STEP 1, Vocabulary 1 (a list of standard symptoms), Vocabulary 2 (a list of the most common standard symptoms).\n",
    "- Output: Its standard symptom. For example, fever -> pyrexia, fatigue -> fatigue.\n",
    "- Evaluation: You can consider using different strategies to evaluate your outcome. For example, recall can be used to evaluate the percentage of symptoms that have been missed by your models. Precision can be used to evaluate if your model has identified4 many irrelevant or incorrect symptoms. You can also define your own evaluation metrics. \n",
    "\n",
    "    The goal is to\n",
    "\n",
    "    - Evaluate the performance based on standard symptom list.\n",
    "    - Evaluate the performance based on the most common standard symptom list.\n",
    "\n",
    "Make sure you have both automatic evaluation and manual evaluation. Here, for the manual\n",
    "evaluation, you can select 20~50 clinical notes and manually check the results."
   ]
  },
  {
   "cell_type": "code",
   "execution_count": null,
   "metadata": {},
   "outputs": [],
   "source": []
  }
 ],
 "metadata": {
  "kernelspec": {
   "display_name": "base",
   "language": "python",
   "name": "python3"
  },
  "language_info": {
   "codemirror_mode": {
    "name": "ipython",
    "version": 3
   },
   "file_extension": ".py",
   "mimetype": "text/x-python",
   "name": "python",
   "nbconvert_exporter": "python",
   "pygments_lexer": "ipython3",
   "version": "3.9.12"
  }
 },
 "nbformat": 4,
 "nbformat_minor": 2
}
